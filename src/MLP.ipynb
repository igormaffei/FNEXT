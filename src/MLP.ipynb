{
 "cells": [
  {
   "cell_type": "code",
   "execution_count": 1,
   "metadata": {},
   "outputs": [],
   "source": [
    "import numpy \n",
    "import pandas as pd\n",
    "import matplotlib.pyplot as plt\n",
    "import seaborn as sns\n",
    "%matplotlib inline\n",
    "from sklearn.model_selection import train_test_split\n",
    "from sklearn.preprocessing import LabelEncoder"
   ]
  },
  {
   "cell_type": "code",
   "execution_count": 12,
   "metadata": {},
   "outputs": [
    {
     "data": {
      "text/html": [
       "<div>\n",
       "<style scoped>\n",
       "    .dataframe tbody tr th:only-of-type {\n",
       "        vertical-align: middle;\n",
       "    }\n",
       "\n",
       "    .dataframe tbody tr th {\n",
       "        vertical-align: top;\n",
       "    }\n",
       "\n",
       "    .dataframe thead th {\n",
       "        text-align: right;\n",
       "    }\n",
       "</style>\n",
       "<table border=\"1\" class=\"dataframe\">\n",
       "  <thead>\n",
       "    <tr style=\"text-align: right;\">\n",
       "      <th></th>\n",
       "      <th>id</th>\n",
       "      <th>rotulo</th>\n",
       "      <th>MAIUSCULAS</th>\n",
       "      <th>EXCLAMA</th>\n",
       "      <th>ASPAS</th>\n",
       "      <th>POL_ABSOLUTO</th>\n",
       "      <th>funct</th>\n",
       "      <th>pronoun</th>\n",
       "      <th>ppron</th>\n",
       "      <th>i</th>\n",
       "      <th>...</th>\n",
       "      <th>negate</th>\n",
       "      <th>verb</th>\n",
       "      <th>adj</th>\n",
       "      <th>interrog</th>\n",
       "      <th>affect</th>\n",
       "      <th>posemo</th>\n",
       "      <th>negemo</th>\n",
       "      <th>anx</th>\n",
       "      <th>anger</th>\n",
       "      <th>sad</th>\n",
       "    </tr>\n",
       "  </thead>\n",
       "  <tbody>\n",
       "    <tr>\n",
       "      <th>0</th>\n",
       "      <td>53</td>\n",
       "      <td>FALSO</td>\n",
       "      <td>0.185105</td>\n",
       "      <td>0.0</td>\n",
       "      <td>0.0</td>\n",
       "      <td>0.500000</td>\n",
       "      <td>0.488384</td>\n",
       "      <td>0.419191</td>\n",
       "      <td>0.230473</td>\n",
       "      <td>0.237002</td>\n",
       "      <td>...</td>\n",
       "      <td>0.104996</td>\n",
       "      <td>0.324418</td>\n",
       "      <td>0.373536</td>\n",
       "      <td>0.104918</td>\n",
       "      <td>0.348045</td>\n",
       "      <td>0.078747</td>\n",
       "      <td>0.441619</td>\n",
       "      <td>0.245902</td>\n",
       "      <td>0.000000</td>\n",
       "      <td>0.0</td>\n",
       "    </tr>\n",
       "    <tr>\n",
       "      <th>1</th>\n",
       "      <td>1136</td>\n",
       "      <td>VERDADE</td>\n",
       "      <td>0.097101</td>\n",
       "      <td>0.0</td>\n",
       "      <td>0.0</td>\n",
       "      <td>0.333333</td>\n",
       "      <td>0.428923</td>\n",
       "      <td>0.321148</td>\n",
       "      <td>0.138170</td>\n",
       "      <td>0.000000</td>\n",
       "      <td>...</td>\n",
       "      <td>0.220311</td>\n",
       "      <td>0.534851</td>\n",
       "      <td>0.065315</td>\n",
       "      <td>0.660442</td>\n",
       "      <td>0.426006</td>\n",
       "      <td>0.082617</td>\n",
       "      <td>0.555985</td>\n",
       "      <td>0.000000</td>\n",
       "      <td>0.186732</td>\n",
       "      <td>0.0</td>\n",
       "    </tr>\n",
       "    <tr>\n",
       "      <th>2</th>\n",
       "      <td>695</td>\n",
       "      <td>FALSO</td>\n",
       "      <td>0.409534</td>\n",
       "      <td>0.0</td>\n",
       "      <td>0.0</td>\n",
       "      <td>0.500000</td>\n",
       "      <td>0.493180</td>\n",
       "      <td>0.454024</td>\n",
       "      <td>0.145687</td>\n",
       "      <td>0.000000</td>\n",
       "      <td>...</td>\n",
       "      <td>0.000000</td>\n",
       "      <td>0.102536</td>\n",
       "      <td>0.275475</td>\n",
       "      <td>0.000000</td>\n",
       "      <td>0.000000</td>\n",
       "      <td>0.000000</td>\n",
       "      <td>0.000000</td>\n",
       "      <td>0.000000</td>\n",
       "      <td>0.000000</td>\n",
       "      <td>0.0</td>\n",
       "    </tr>\n",
       "    <tr>\n",
       "      <th>3</th>\n",
       "      <td>3312</td>\n",
       "      <td>VERDADE</td>\n",
       "      <td>0.122886</td>\n",
       "      <td>0.0</td>\n",
       "      <td>0.0</td>\n",
       "      <td>0.583333</td>\n",
       "      <td>0.356806</td>\n",
       "      <td>0.196390</td>\n",
       "      <td>0.104917</td>\n",
       "      <td>0.000000</td>\n",
       "      <td>...</td>\n",
       "      <td>0.000000</td>\n",
       "      <td>0.246138</td>\n",
       "      <td>0.264511</td>\n",
       "      <td>0.111443</td>\n",
       "      <td>0.246460</td>\n",
       "      <td>0.083644</td>\n",
       "      <td>0.281450</td>\n",
       "      <td>0.000000</td>\n",
       "      <td>0.000000</td>\n",
       "      <td>0.0</td>\n",
       "    </tr>\n",
       "    <tr>\n",
       "      <th>4</th>\n",
       "      <td>1314</td>\n",
       "      <td>VERDADE</td>\n",
       "      <td>0.000000</td>\n",
       "      <td>0.0</td>\n",
       "      <td>0.0</td>\n",
       "      <td>0.500000</td>\n",
       "      <td>0.522131</td>\n",
       "      <td>0.277393</td>\n",
       "      <td>0.115869</td>\n",
       "      <td>0.000000</td>\n",
       "      <td>...</td>\n",
       "      <td>0.000000</td>\n",
       "      <td>0.271833</td>\n",
       "      <td>0.146062</td>\n",
       "      <td>0.492308</td>\n",
       "      <td>0.068047</td>\n",
       "      <td>0.092376</td>\n",
       "      <td>0.000000</td>\n",
       "      <td>0.000000</td>\n",
       "      <td>0.000000</td>\n",
       "      <td>0.0</td>\n",
       "    </tr>\n",
       "  </tbody>\n",
       "</table>\n",
       "<p>5 rows × 30 columns</p>\n",
       "</div>"
      ],
      "text/plain": [
       "     id   rotulo  MAIUSCULAS  EXCLAMA  ASPAS  POL_ABSOLUTO     funct  \\\n",
       "0    53    FALSO    0.185105      0.0    0.0      0.500000  0.488384   \n",
       "1  1136  VERDADE    0.097101      0.0    0.0      0.333333  0.428923   \n",
       "2   695    FALSO    0.409534      0.0    0.0      0.500000  0.493180   \n",
       "3  3312  VERDADE    0.122886      0.0    0.0      0.583333  0.356806   \n",
       "4  1314  VERDADE    0.000000      0.0    0.0      0.500000  0.522131   \n",
       "\n",
       "    pronoun     ppron         i  ...    negate      verb       adj  interrog  \\\n",
       "0  0.419191  0.230473  0.237002  ...  0.104996  0.324418  0.373536  0.104918   \n",
       "1  0.321148  0.138170  0.000000  ...  0.220311  0.534851  0.065315  0.660442   \n",
       "2  0.454024  0.145687  0.000000  ...  0.000000  0.102536  0.275475  0.000000   \n",
       "3  0.196390  0.104917  0.000000  ...  0.000000  0.246138  0.264511  0.111443   \n",
       "4  0.277393  0.115869  0.000000  ...  0.000000  0.271833  0.146062  0.492308   \n",
       "\n",
       "     affect    posemo    negemo       anx     anger  sad  \n",
       "0  0.348045  0.078747  0.441619  0.245902  0.000000  0.0  \n",
       "1  0.426006  0.082617  0.555985  0.000000  0.186732  0.0  \n",
       "2  0.000000  0.000000  0.000000  0.000000  0.000000  0.0  \n",
       "3  0.246460  0.083644  0.281450  0.000000  0.000000  0.0  \n",
       "4  0.068047  0.092376  0.000000  0.000000  0.000000  0.0  \n",
       "\n",
       "[5 rows x 30 columns]"
      ]
     },
     "execution_count": 12,
     "metadata": {},
     "output_type": "execute_result"
    }
   ],
   "source": [
    "#data = pd.read_csv(\"datasets/ds_texto.csv\")\n",
    "#data = pd.read_csv(\"datasets/ds_full.csv\")\n",
    "#data = pd.read_csv(\"datasets2/ds_texto.csv\")\n",
    "#data = pd.read_csv(\"datasets2/ds_full.csv\")\n",
    "#data = pd.read_csv(\"datasets2/ds_full_em.csv\")\n",
    "#data = pd.read_csv(\"datasets/ds_texto_concat.csv\")\n",
    "data = pd.read_csv(\"datasets2/ds_texto_concat.csv\")\n",
    "\n",
    "data.head()"
   ]
  },
  {
   "cell_type": "markdown",
   "metadata": {},
   "source": [
    "## Separando treino do teste"
   ]
  },
  {
   "cell_type": "code",
   "execution_count": 13,
   "metadata": {},
   "outputs": [],
   "source": [
    "X = data.drop('id', axis=1)\n",
    "X = X.drop('rotulo', axis=1)\n",
    "y = data['rotulo']"
   ]
  },
  {
   "cell_type": "code",
   "execution_count": 14,
   "metadata": {},
   "outputs": [],
   "source": [
    "# Diagnosis values are strings. Changing them into numerical values using LabelEncoder.\n",
    "encoder = LabelEncoder()\n",
    "encoder.fit(y)\n",
    "encoded_Y = encoder.transform(y)"
   ]
  },
  {
   "cell_type": "markdown",
   "metadata": {},
   "source": [
    "## Separa o dataset para treino"
   ]
  },
  {
   "cell_type": "code",
   "execution_count": 15,
   "metadata": {},
   "outputs": [
    {
     "name": "stdout",
     "output_type": "stream",
     "text": [
      "Original dataset: Counter({1: 613, 0: 379})\n",
      "Resampled dataset: Counter({0: 613, 1: 613})\n"
     ]
    }
   ],
   "source": [
    "from sklearn.model_selection import train_test_split\n",
    "from imblearn.over_sampling import SMOTE\n",
    "from imblearn.under_sampling import RandomUnderSampler\n",
    "from imblearn.pipeline import Pipeline\n",
    "from collections import Counter\n",
    "\n",
    "### SMOTE dataset pq ele é desbalanceado\n",
    "over = SMOTE(sampling_strategy=1, random_state= 109)\n",
    "under = RandomUnderSampler(sampling_strategy=1, random_state= 109)\n",
    "steps = [('o', over), ('u', under)]\n",
    "pipeline = Pipeline(steps=steps)\n",
    "\n",
    "print('Original dataset:', Counter(encoded_Y))\n",
    "\n",
    "X, encoded_Y = pipeline.fit_resample(X, encoded_Y)\n",
    "\n",
    "print('Resampled dataset:', Counter(encoded_Y))\n",
    "\n",
    "\n",
    "X_train, X_test, y_train, y_test = train_test_split(X, encoded_Y, test_size=0.3, random_state=109) "
   ]
  },
  {
   "cell_type": "markdown",
   "metadata": {},
   "source": [
    "## Normaliza os valores"
   ]
  },
  {
   "cell_type": "code",
   "execution_count": 16,
   "metadata": {},
   "outputs": [],
   "source": [
    "from sklearn.preprocessing import StandardScaler\n",
    "\n",
    "scaler = StandardScaler().fit(X_train)\n",
    "\n",
    "X_train = scaler.transform(X_train)\n",
    "\n",
    "X_test = scaler.transform(X_test)  \n"
   ]
  },
  {
   "cell_type": "markdown",
   "metadata": {},
   "source": [
    "## Treina o modelo"
   ]
  },
  {
   "cell_type": "code",
   "execution_count": 17,
   "metadata": {},
   "outputs": [
    {
     "name": "stdout",
     "output_type": "stream",
     "text": [
      "28\n",
      "Epoch 1/100\n",
      "54/54 [==============================] - 1s 1ms/step - loss: 0.6950 - accuracy: 0.5766\n",
      "Epoch 2/100\n",
      "54/54 [==============================] - 0s 2ms/step - loss: 0.6454 - accuracy: 0.6407\n",
      "Epoch 3/100\n",
      "54/54 [==============================] - 0s 2ms/step - loss: 0.5980 - accuracy: 0.7021\n",
      "Epoch 4/100\n",
      "54/54 [==============================] - 0s 2ms/step - loss: 0.5346 - accuracy: 0.7702\n",
      "Epoch 5/100\n",
      "54/54 [==============================] - 0s 2ms/step - loss: 0.5098 - accuracy: 0.7812\n",
      "Epoch 6/100\n",
      "54/54 [==============================] - 0s 2ms/step - loss: 0.4505 - accuracy: 0.8167\n",
      "Epoch 7/100\n",
      "54/54 [==============================] - 0s 2ms/step - loss: 0.3948 - accuracy: 0.8349\n",
      "Epoch 8/100\n",
      "54/54 [==============================] - 0s 2ms/step - loss: 0.3441 - accuracy: 0.8725\n",
      "Epoch 9/100\n",
      "54/54 [==============================] - 0s 2ms/step - loss: 0.3162 - accuracy: 0.8861\n",
      "Epoch 10/100\n",
      "54/54 [==============================] - 0s 2ms/step - loss: 0.2535 - accuracy: 0.9216\n",
      "Epoch 11/100\n",
      "54/54 [==============================] - 0s 2ms/step - loss: 0.2137 - accuracy: 0.9266\n",
      "Epoch 12/100\n",
      "54/54 [==============================] - 0s 2ms/step - loss: 0.2028 - accuracy: 0.9327\n",
      "Epoch 13/100\n",
      "54/54 [==============================] - 0s 2ms/step - loss: 0.1685 - accuracy: 0.9316\n",
      "Epoch 14/100\n",
      "54/54 [==============================] - 0s 1ms/step - loss: 0.1348 - accuracy: 0.9525\n",
      "Epoch 15/100\n",
      "54/54 [==============================] - 0s 2ms/step - loss: 0.1570 - accuracy: 0.9390\n",
      "Epoch 16/100\n",
      "54/54 [==============================] - 0s 1ms/step - loss: 0.0897 - accuracy: 0.9741\n",
      "Epoch 17/100\n",
      "54/54 [==============================] - 0s 2ms/step - loss: 0.0899 - accuracy: 0.9753\n",
      "Epoch 18/100\n",
      "54/54 [==============================] - 0s 2ms/step - loss: 0.0582 - accuracy: 0.9873\n",
      "Epoch 19/100\n",
      "54/54 [==============================] - 0s 2ms/step - loss: 0.0351 - accuracy: 0.9925\n",
      "Epoch 20/100\n",
      "54/54 [==============================] - 0s 2ms/step - loss: 0.0283 - accuracy: 0.9944\n",
      "Epoch 21/100\n",
      "54/54 [==============================] - 0s 2ms/step - loss: 0.0233 - accuracy: 0.9933\n",
      "Epoch 22/100\n",
      "54/54 [==============================] - 0s 2ms/step - loss: 0.0335 - accuracy: 0.9865\n",
      "Epoch 23/100\n",
      "54/54 [==============================] - 0s 2ms/step - loss: 0.0112 - accuracy: 0.9967\n",
      "Epoch 24/100\n",
      "54/54 [==============================] - 0s 2ms/step - loss: 0.0101 - accuracy: 0.9985\n",
      "Epoch 25/100\n",
      "54/54 [==============================] - 0s 2ms/step - loss: 0.0087 - accuracy: 0.9991\n",
      "Epoch 26/100\n",
      "54/54 [==============================] - 0s 2ms/step - loss: 0.0075 - accuracy: 0.9987\n",
      "Epoch 27/100\n",
      "54/54 [==============================] - 0s 2ms/step - loss: 0.0069 - accuracy: 0.9979\n",
      "Epoch 28/100\n",
      "54/54 [==============================] - 0s 2ms/step - loss: 0.0048 - accuracy: 0.9980\n",
      "Epoch 29/100\n",
      "54/54 [==============================] - 0s 2ms/step - loss: 0.0038 - accuracy: 1.0000\n",
      "Epoch 30/100\n",
      "54/54 [==============================] - 0s 3ms/step - loss: 0.0021 - accuracy: 1.0000\n",
      "Epoch 31/100\n",
      "54/54 [==============================] - 0s 2ms/step - loss: 0.0021 - accuracy: 1.0000\n",
      "Epoch 32/100\n",
      "54/54 [==============================] - 0s 2ms/step - loss: 0.0016 - accuracy: 1.0000\n",
      "Epoch 33/100\n",
      "54/54 [==============================] - 0s 2ms/step - loss: 0.0017 - accuracy: 1.0000\n",
      "Epoch 34/100\n",
      "54/54 [==============================] - 0s 2ms/step - loss: 0.0015 - accuracy: 1.0000\n",
      "Epoch 35/100\n",
      "54/54 [==============================] - 0s 1ms/step - loss: 0.0012 - accuracy: 1.0000\n",
      "Epoch 36/100\n",
      "54/54 [==============================] - 0s 2ms/step - loss: 0.0015 - accuracy: 1.0000\n",
      "Epoch 37/100\n",
      "54/54 [==============================] - 0s 2ms/step - loss: 0.0010 - accuracy: 1.0000\n",
      "Epoch 38/100\n",
      "54/54 [==============================] - 0s 2ms/step - loss: 8.6994e-04 - accuracy: 1.0000\n",
      "Epoch 39/100\n",
      "54/54 [==============================] - 0s 2ms/step - loss: 7.7257e-04 - accuracy: 1.0000\n",
      "Epoch 40/100\n",
      "54/54 [==============================] - 0s 2ms/step - loss: 8.9235e-04 - accuracy: 1.0000\n",
      "Epoch 41/100\n",
      "54/54 [==============================] - 0s 2ms/step - loss: 6.8075e-04 - accuracy: 1.0000\n",
      "Epoch 42/100\n",
      "54/54 [==============================] - 0s 2ms/step - loss: 8.4815e-04 - accuracy: 1.0000\n",
      "Epoch 43/100\n",
      "54/54 [==============================] - 0s 2ms/step - loss: 4.7306e-04 - accuracy: 1.0000\n",
      "Epoch 44/100\n",
      "54/54 [==============================] - 0s 2ms/step - loss: 5.0205e-04 - accuracy: 1.0000\n",
      "Epoch 45/100\n",
      "54/54 [==============================] - 0s 2ms/step - loss: 6.1528e-04 - accuracy: 1.0000\n",
      "Epoch 46/100\n",
      "54/54 [==============================] - 0s 2ms/step - loss: 5.4124e-04 - accuracy: 1.0000\n",
      "Epoch 47/100\n",
      "54/54 [==============================] - 0s 2ms/step - loss: 4.1924e-04 - accuracy: 1.0000\n",
      "Epoch 48/100\n",
      "54/54 [==============================] - 0s 2ms/step - loss: 3.2986e-04 - accuracy: 1.0000\n",
      "Epoch 49/100\n",
      "54/54 [==============================] - 0s 2ms/step - loss: 4.1059e-04 - accuracy: 1.0000\n"
     ]
    },
    {
     "data": {
      "text/plain": [
       "<tensorflow.python.keras.callbacks.History at 0x1338d6710>"
      ]
     },
     "execution_count": 17,
     "metadata": {},
     "output_type": "execute_result"
    }
   ],
   "source": [
    "from keras.models import Sequential\n",
    "from keras.layers import Dense, Input, AlphaDropout\n",
    "from keras.callbacks import EarlyStopping\n",
    "import numpy as np\n",
    "\n",
    "input_dim = X_train.shape[1]\n",
    "\n",
    "print(input_dim)\n",
    "\n",
    "model = Sequential()\n",
    "\n",
    "model.add(Dense(128, activation='relu', input_shape=(input_dim,)))\n",
    "model.add(Dense(64, activation='relu'))\n",
    "model.add(Dense(32, activation='relu'))\n",
    "model.add(Dense(16, activation='relu'))\n",
    "model.add(Dense(8, activation='relu'))\n",
    "model.add(Dense(4, activation='relu'))\n",
    "model.add(Dense(1, activation='sigmoid'))\n",
    "\n",
    "model.compile(loss='binary_crossentropy',\n",
    "              optimizer='adam',\n",
    "              metrics=['accuracy'])\n",
    "\n",
    "es = EarlyStopping(monitor='accuracy', patience=20, restore_best_weights=True)                   \n",
    "model.fit(X_train, y_train,epochs=100, batch_size=16, verbose=1, callbacks=[es])\n"
   ]
  },
  {
   "cell_type": "markdown",
   "metadata": {},
   "source": [
    "## Avaliação e Métricas"
   ]
  },
  {
   "cell_type": "code",
   "execution_count": 18,
   "metadata": {},
   "outputs": [
    {
     "name": "stdout",
     "output_type": "stream",
     "text": [
      "[[139  47]\n",
      " [ 53 129]]\n",
      "              precision    recall  f1-score   support\n",
      "\n",
      "           0       0.72      0.75      0.74       186\n",
      "           1       0.73      0.71      0.72       182\n",
      "\n",
      "    accuracy                           0.73       368\n",
      "   macro avg       0.73      0.73      0.73       368\n",
      "weighted avg       0.73      0.73      0.73       368\n",
      "\n"
     ]
    }
   ],
   "source": [
    "from sklearn.metrics import classification_report, confusion_matrix\n",
    "#pega a predição\n",
    "#y_pred = model.predict_classes(X_test)\n",
    "y_pred = (model.predict(X_test) > 0.5).astype(\"int32\")\n",
    "\n",
    "print(confusion_matrix(y_test,y_pred))\n",
    "print(classification_report(y_test,y_pred))"
   ]
  },
  {
   "cell_type": "code",
   "execution_count": 19,
   "metadata": {},
   "outputs": [
    {
     "data": {
      "image/png": "[encoded data removed]",
      "text/plain": [
       "<Figure size 432x288 with 2 Axes>"
      ]
     },
     "metadata": {},
     "output_type": "display_data"
    }
   ],
   "source": [
    "# use seaborn plotting defaults\n",
    "import seaborn as sns; sns.set()\n",
    "\n",
    "mat = confusion_matrix(y_test,y_pred)\n",
    "sns.heatmap(mat.T, square=True, annot=True, fmt='d', cmap=\"Blues\", cbar=True,\n",
    "            xticklabels=['fake','real'],\n",
    "            yticklabels=['fake','real'])\n",
    "plt.xlabel('Valores preditos')\n",
    "plt.ylabel('Valores informados');\n"
   ]
  },
  {
   "cell_type": "code",
   "execution_count": 20,
   "metadata": {},
   "outputs": [
    {
     "name": "stdout",
     "output_type": "stream",
     "text": [
      "12/12 [==============================] - 0s 6ms/step - loss: 1.4748 - accuracy: 0.7283\n"
     ]
    }
   ],
   "source": [
    "score = model.evaluate(X_test, y_test,verbose=1)"
   ]
  },
  {
   "cell_type": "markdown",
   "metadata": {},
   "source": [
    "## Validação Cruzada"
   ]
  },
  {
   "cell_type": "code",
   "execution_count": 21,
   "metadata": {},
   "outputs": [
    {
     "name": "stdout",
     "output_type": "stream",
     "text": [
      "accuracy: 0.8862 - AUC 0.89 - F1 0.8814 \n",
      "accuracy: 0.9106 - AUC 0.91 - F1 0.9091 \n",
      "accuracy: 0.9024 - AUC 0.90 - F1 0.9032 \n",
      "accuracy: 0.9024 - AUC 0.90 - F1 0.9062 \n",
      "accuracy: 0.9512 - AUC 0.95 - F1 0.9500 \n",
      "accuracy: 0.9431 - AUC 0.94 - F1 0.9440 \n",
      "accuracy: 0.9262 - AUC 0.93 - F1 0.9231 \n",
      "accuracy: 0.9426 - AUC 0.94 - F1 0.9431 \n",
      "accuracy: 0.8934 - AUC 0.89 - F1 0.8908 \n",
      "accuracy: 0.9180 - AUC 0.92 - F1 0.9194 \n",
      ">> Acurácia 0.9176 (+/- 0.0214)\n",
      ">> AUC 0.9176 (+/- 0.0214)\n",
      ">> F1 0.9170 (+/- 0.0221)\n"
     ]
    }
   ],
   "source": [
    "from sklearn.model_selection import StratifiedKFold, KFold, cross_val_score \n",
    "from sklearn.metrics import roc_curve\n",
    "from sklearn.metrics import auc, f1_score\n",
    "\n",
    "# dfcv = pd.read_csv(\"datasets/ds_full_pt.csv\")\n",
    "# X = dfcv.drop('id', axis=1)\n",
    "# X = X.drop('rotulo', axis=1)\n",
    "# Y = dfcv['rotulo']\n",
    "\n",
    "# fix random seed for reproducibility\n",
    "seed = 109\n",
    "numpy.random.seed(seed)\n",
    "\n",
    "scaler = StandardScaler().fit(X)\n",
    "\n",
    "X = scaler.transform(X)\n",
    "\n",
    "# encoder = LabelEncoder()\n",
    "# encoder.fit(Y)\n",
    "# encoded_Y = encoder.transform(Y)\n",
    "\n",
    "#Y = encoded_Y.reshape(-1,1)\n",
    "Y = encoded_Y\n",
    "\n",
    "\n",
    "\n",
    "kfold = StratifiedKFold(n_splits=10, shuffle=True, random_state=seed)\n",
    "\n",
    "cvscores = []\n",
    "cvaucs = []\n",
    "f1s = []\n",
    "    \n",
    "for train, test in kfold.split(X, Y):   \n",
    "    scores = model.evaluate(X[test], Y[test], verbose=0)\n",
    "    #print(\"%s: %.4f%%\" % (model.metrics_names[1], scores[1]))\n",
    "    cvscores.append(scores[1])\n",
    "    \n",
    "    #Calculo do AUC\n",
    "    #y_pred_keras = model.predict(X[test]).ravel()\n",
    "    y_pred_keras = (model.predict(X[test]) > 0.5).astype(\"int32\")\n",
    "    fpr_keras, tpr_keras, thresholds_keras = roc_curve(Y[test], y_pred_keras)\n",
    "    auc_keras = auc(fpr_keras, tpr_keras)\n",
    "    #print(\"auc_keras %.4f%%\" % (auc_keras))\n",
    "    cvaucs.append(auc_keras)\n",
    "    \n",
    "    #F1-score\n",
    "    #f1_pred = model.predict_classes(X[test])\n",
    "    f1_pred = (model.predict(X[test]) > 0.5).astype(\"int32\")\n",
    "\n",
    "    f1 = f1_score(Y[test], f1_pred, average=\"binary\")\n",
    "    f1s.append(f1)\n",
    "    print(\"%s: %.4f - AUC %.2f - F1 %.4f \" % (model.metrics_names[1], scores[1], auc_keras, f1 ))\n",
    "    \n",
    "print(\">> Acurácia %.4f (+/- %.4f)\" % (numpy.mean(cvscores), numpy.std(cvscores)))\n",
    "print(\">> AUC %.4f (+/- %.4f)\" % (numpy.mean(cvaucs), numpy.std(cvaucs)))\n",
    "print(\">> F1 %.4f (+/- %.4f)\" % (numpy.mean(f1s), numpy.std(f1s)))"
   ]
  },
  {
   "cell_type": "markdown",
   "metadata": {},
   "source": [
    "## Resultados Finais"
   ]
  },
  {
   "cell_type": "code",
   "execution_count": 12,
   "metadata": {},
   "outputs": [
    {
     "name": "stdout",
     "output_type": "stream",
     "text": [
      "[[186   5]\n",
      " [  5 186]]\n",
      "              precision    recall  f1-score   support\n",
      "\n",
      "           0       0.97      0.97      0.97       191\n",
      "           1       0.97      0.97      0.97       191\n",
      "\n",
      "    accuracy                           0.97       382\n",
      "   macro avg       0.97      0.97      0.97       382\n",
      "weighted avg       0.97      0.97      0.97       382\n",
      "\n"
     ]
    }
   ],
   "source": [
    "#y_pred_total = model.predict_classes(X)\n",
    "y_pred_total = (model.predict(X) > 0.5).astype(\"int32\")\n",
    "\n",
    "print(confusion_matrix(Y, y_pred_total))\n",
    "print(classification_report(Y, y_pred_total))"
   ]
  },
  {
   "cell_type": "code",
   "execution_count": 13,
   "metadata": {},
   "outputs": [
    {
     "data": {
      "image/png": "[encoded data removed]",
      "text/plain": [
       "<Figure size 432x288 with 2 Axes>"
      ]
     },
     "metadata": {},
     "output_type": "display_data"
    }
   ],
   "source": [
    "# use seaborn plotting defaults\n",
    "import seaborn as sns\n",
    "\n",
    "mat = confusion_matrix(Y, y_pred_total)\n",
    "sns.heatmap(mat, square=True, annot=True, fmt='d', cmap=\"Blues\", cbar=True,\n",
    "            xticklabels=['fake','real'],\n",
    "            yticklabels=['fake','real'])\n",
    "plt.xlabel('Valores Preditos')\n",
    "plt.ylabel('Valores Reais');"
   ]
  },
  {
   "cell_type": "code",
   "execution_count": null,
   "metadata": {},
   "outputs": [],
   "source": []
  }
 ],
 "metadata": {
  "kernelspec": {
   "display_name": "Python 3",
   "language": "python",
   "name": "python3"
  },
  "language_info": {
   "codemirror_mode": {
    "name": "ipython",
    "version": 3
   },
   "file_extension": ".py",
   "mimetype": "text/x-python",
   "name": "python",
   "nbconvert_exporter": "python",
   "pygments_lexer": "ipython3",
   "version": "3.7.0"
  }
 },
 "nbformat": 4,
 "nbformat_minor": 4
}
