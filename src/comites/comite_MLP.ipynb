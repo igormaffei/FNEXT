{
 "cells": [
  {
   "cell_type": "markdown",
   "metadata": {},
   "source": [
    "## Comitê MLP"
   ]
  },
  {
   "cell_type": "code",
   "execution_count": 64,
   "metadata": {},
   "outputs": [],
   "source": [
    "import numpy \n",
    "import pandas as pd\n",
    "import matplotlib.pyplot as plt\n",
    "import seaborn as sns\n",
    "%matplotlib inline\n",
    "from sklearn.model_selection import train_test_split\n",
    "from sklearn.preprocessing import LabelEncoder"
   ]
  },
  {
   "cell_type": "code",
   "execution_count": 75,
   "metadata": {},
   "outputs": [
    {
     "data": {
      "text/html": [
       "<div>\n",
       "<style scoped>\n",
       "    .dataframe tbody tr th:only-of-type {\n",
       "        vertical-align: middle;\n",
       "    }\n",
       "\n",
       "    .dataframe tbody tr th {\n",
       "        vertical-align: top;\n",
       "    }\n",
       "\n",
       "    .dataframe thead th {\n",
       "        text-align: right;\n",
       "    }\n",
       "</style>\n",
       "<table border=\"1\" class=\"dataframe\">\n",
       "  <thead>\n",
       "    <tr style=\"text-align: right;\">\n",
       "      <th></th>\n",
       "      <th>id</th>\n",
       "      <th>MAIUSCULAS_x</th>\n",
       "      <th>EXCLAMA_x</th>\n",
       "      <th>ASPAS_x</th>\n",
       "      <th>POL_ABSOLUTO_x</th>\n",
       "      <th>funct</th>\n",
       "      <th>pronoun_x</th>\n",
       "      <th>ppron_x</th>\n",
       "      <th>i_x</th>\n",
       "      <th>we_x</th>\n",
       "      <th>...</th>\n",
       "      <th>anger_y</th>\n",
       "      <th>sad_y</th>\n",
       "      <th>rotulo</th>\n",
       "      <th>ADA</th>\n",
       "      <th>GRD</th>\n",
       "      <th>KNN</th>\n",
       "      <th>NB</th>\n",
       "      <th>RF</th>\n",
       "      <th>RL</th>\n",
       "      <th>SVM</th>\n",
       "    </tr>\n",
       "  </thead>\n",
       "  <tbody>\n",
       "    <tr>\n",
       "      <th>0</th>\n",
       "      <td>53</td>\n",
       "      <td>0.155062</td>\n",
       "      <td>0.0</td>\n",
       "      <td>0.0</td>\n",
       "      <td>0.50</td>\n",
       "      <td>0.597229</td>\n",
       "      <td>0.482377</td>\n",
       "      <td>0.292642</td>\n",
       "      <td>0.210033</td>\n",
       "      <td>0.0</td>\n",
       "      <td>...</td>\n",
       "      <td>0.0</td>\n",
       "      <td>0.0</td>\n",
       "      <td>FALSO</td>\n",
       "      <td>0</td>\n",
       "      <td>0</td>\n",
       "      <td>0</td>\n",
       "      <td>1</td>\n",
       "      <td>0</td>\n",
       "      <td>0</td>\n",
       "      <td>0</td>\n",
       "    </tr>\n",
       "    <tr>\n",
       "      <th>1</th>\n",
       "      <td>1136</td>\n",
       "      <td>0.032086</td>\n",
       "      <td>0.0</td>\n",
       "      <td>0.0</td>\n",
       "      <td>0.25</td>\n",
       "      <td>0.391333</td>\n",
       "      <td>0.266170</td>\n",
       "      <td>0.173010</td>\n",
       "      <td>0.000000</td>\n",
       "      <td>0.0</td>\n",
       "      <td>...</td>\n",
       "      <td>0.0</td>\n",
       "      <td>0.0</td>\n",
       "      <td>VERDADE</td>\n",
       "      <td>1</td>\n",
       "      <td>1</td>\n",
       "      <td>1</td>\n",
       "      <td>1</td>\n",
       "      <td>1</td>\n",
       "      <td>0</td>\n",
       "      <td>0</td>\n",
       "    </tr>\n",
       "    <tr>\n",
       "      <th>2</th>\n",
       "      <td>695</td>\n",
       "      <td>0.727273</td>\n",
       "      <td>0.0</td>\n",
       "      <td>0.0</td>\n",
       "      <td>0.50</td>\n",
       "      <td>0.291783</td>\n",
       "      <td>0.282805</td>\n",
       "      <td>0.245098</td>\n",
       "      <td>0.000000</td>\n",
       "      <td>0.0</td>\n",
       "      <td>...</td>\n",
       "      <td>0.0</td>\n",
       "      <td>0.0</td>\n",
       "      <td>FALSO</td>\n",
       "      <td>0</td>\n",
       "      <td>0</td>\n",
       "      <td>0</td>\n",
       "      <td>1</td>\n",
       "      <td>0</td>\n",
       "      <td>0</td>\n",
       "      <td>0</td>\n",
       "    </tr>\n",
       "    <tr>\n",
       "      <th>3</th>\n",
       "      <td>3312</td>\n",
       "      <td>0.069199</td>\n",
       "      <td>0.0</td>\n",
       "      <td>0.0</td>\n",
       "      <td>625.00</td>\n",
       "      <td>0.510839</td>\n",
       "      <td>0.251148</td>\n",
       "      <td>0.139925</td>\n",
       "      <td>0.000000</td>\n",
       "      <td>0.0</td>\n",
       "      <td>...</td>\n",
       "      <td>0.0</td>\n",
       "      <td>0.0</td>\n",
       "      <td>VERDADE</td>\n",
       "      <td>1</td>\n",
       "      <td>1</td>\n",
       "      <td>1</td>\n",
       "      <td>1</td>\n",
       "      <td>1</td>\n",
       "      <td>1</td>\n",
       "      <td>1</td>\n",
       "    </tr>\n",
       "    <tr>\n",
       "      <th>4</th>\n",
       "      <td>1314</td>\n",
       "      <td>0.000000</td>\n",
       "      <td>0.0</td>\n",
       "      <td>0.0</td>\n",
       "      <td>0.50</td>\n",
       "      <td>0.505184</td>\n",
       "      <td>0.248368</td>\n",
       "      <td>0.138376</td>\n",
       "      <td>0.000000</td>\n",
       "      <td>0.0</td>\n",
       "      <td>...</td>\n",
       "      <td>0.0</td>\n",
       "      <td>0.0</td>\n",
       "      <td>VERDADE</td>\n",
       "      <td>1</td>\n",
       "      <td>1</td>\n",
       "      <td>1</td>\n",
       "      <td>1</td>\n",
       "      <td>1</td>\n",
       "      <td>1</td>\n",
       "      <td>1</td>\n",
       "    </tr>\n",
       "  </tbody>\n",
       "</table>\n",
       "<p>5 rows × 64 columns</p>\n",
       "</div>"
      ],
      "text/plain": [
       "     id  MAIUSCULAS_x  EXCLAMA_x  ASPAS_x  POL_ABSOLUTO_x     funct  \\\n",
       "0    53      0.155062        0.0      0.0            0.50  0.597229   \n",
       "1  1136      0.032086        0.0      0.0            0.25  0.391333   \n",
       "2   695      0.727273        0.0      0.0            0.50  0.291783   \n",
       "3  3312      0.069199        0.0      0.0          625.00  0.510839   \n",
       "4  1314      0.000000        0.0      0.0            0.50  0.505184   \n",
       "\n",
       "   pronoun_x   ppron_x       i_x  we_x  ...  anger_y  sad_y   rotulo  ADA  \\\n",
       "0   0.482377  0.292642  0.210033   0.0  ...      0.0    0.0    FALSO    0   \n",
       "1   0.266170  0.173010  0.000000   0.0  ...      0.0    0.0  VERDADE    1   \n",
       "2   0.282805  0.245098  0.000000   0.0  ...      0.0    0.0    FALSO    0   \n",
       "3   0.251148  0.139925  0.000000   0.0  ...      0.0    0.0  VERDADE    1   \n",
       "4   0.248368  0.138376  0.000000   0.0  ...      0.0    0.0  VERDADE    1   \n",
       "\n",
       "   GRD  KNN  NB  RF  RL  SVM  \n",
       "0    0    0   1   0   0    0  \n",
       "1    1    1   1   1   0    0  \n",
       "2    0    0   1   0   0    0  \n",
       "3    1    1   1   1   1    1  \n",
       "4    1    1   1   1   1    1  \n",
       "\n",
       "[5 rows x 64 columns]"
      ]
     },
     "execution_count": 75,
     "metadata": {},
     "output_type": "execute_result"
    }
   ],
   "source": [
    "#data = pd.read_csv(\"../datasets/ds_comite_texto.csv\")\n",
    "#data = pd.read_csv(\"../datasets/ds_comite_full.csv\")\n",
    "#data = pd.read_csv(\"../datasets2/ds_comite_texto.csv\")\n",
    "#data = pd.read_csv(\"../datasets2/ds_comite_full.csv\")\n",
    "#data = pd.read_csv(\"../datasets/ds_comite_textov2.csv\")\n",
    "#data = pd.read_csv(\"../datasets/ds_comite_fullv2.csv\")\n",
    "#data = pd.read_csv(\"../datasets2/ds_comite_textov2.csv\")\n",
    "data = pd.read_csv(\"../datasets2/ds_comite_fullv2.csv\")\n",
    "\n",
    "\n",
    "\n",
    "data.head()"
   ]
  },
  {
   "cell_type": "markdown",
   "metadata": {},
   "source": [
    "## Separando treino do teste"
   ]
  },
  {
   "cell_type": "code",
   "execution_count": 76,
   "metadata": {},
   "outputs": [],
   "source": [
    "X = data.drop('id', axis=1)\n",
    "X = X.drop('rotulo', axis=1)\n",
    "y = data['rotulo']"
   ]
  },
  {
   "cell_type": "code",
   "execution_count": 77,
   "metadata": {},
   "outputs": [],
   "source": [
    "# Diagnosis values are strings. Changing them into numerical values using LabelEncoder.\n",
    "encoder = LabelEncoder()\n",
    "encoder.fit(y)\n",
    "encoded_Y = encoder.transform(y)"
   ]
  },
  {
   "cell_type": "markdown",
   "metadata": {},
   "source": [
    "## Separa o dataset para treino"
   ]
  },
  {
   "cell_type": "code",
   "execution_count": 78,
   "metadata": {},
   "outputs": [
    {
     "name": "stdout",
     "output_type": "stream",
     "text": [
      "Original dataset: Counter({1: 613, 0: 379})\n",
      "Resampled dataset: Counter({0: 613, 1: 613})\n"
     ]
    }
   ],
   "source": [
    "from sklearn.model_selection import train_test_split\n",
    "from imblearn.over_sampling import SMOTE\n",
    "from imblearn.under_sampling import RandomUnderSampler\n",
    "from imblearn.pipeline import Pipeline\n",
    "from collections import Counter\n",
    "\n",
    "### SMOTE dataset pq ele é desbalanceado\n",
    "over = SMOTE(sampling_strategy=1, random_state= 109)\n",
    "under = RandomUnderSampler(sampling_strategy=1, random_state= 109)\n",
    "steps = [('o', over), ('u', under)]\n",
    "pipeline = Pipeline(steps=steps)\n",
    "\n",
    "print('Original dataset:', Counter(encoded_Y))\n",
    "\n",
    "X, encoded_Y = pipeline.fit_resample(X, encoded_Y)\n",
    "\n",
    "print('Resampled dataset:', Counter(encoded_Y))\n",
    "\n",
    "\n",
    "X_train, X_test, y_train, y_test = train_test_split(X, encoded_Y, test_size=0.3, random_state=109) "
   ]
  },
  {
   "cell_type": "markdown",
   "metadata": {},
   "source": [
    "## Normaliza os valores"
   ]
  },
  {
   "cell_type": "code",
   "execution_count": 79,
   "metadata": {},
   "outputs": [],
   "source": [
    "from sklearn.preprocessing import StandardScaler\n",
    "\n",
    "scaler = StandardScaler().fit(X_train)\n",
    "\n",
    "X_train = scaler.transform(X_train)\n",
    "\n",
    "X_test = scaler.transform(X_test)  \n"
   ]
  },
  {
   "cell_type": "markdown",
   "metadata": {},
   "source": [
    "## Treina o modelo"
   ]
  },
  {
   "cell_type": "code",
   "execution_count": 80,
   "metadata": {},
   "outputs": [
    {
     "name": "stdout",
     "output_type": "stream",
     "text": [
      "62\n",
      "Epoch 1/100\n",
      "54/54 [==============================] - 2s 4ms/step - loss: 0.6195 - accuracy: 0.7315\n",
      "Epoch 2/100\n",
      "54/54 [==============================] - 0s 3ms/step - loss: 0.1577 - accuracy: 0.9677\n",
      "Epoch 3/100\n",
      "54/54 [==============================] - 0s 3ms/step - loss: 0.0681 - accuracy: 0.9844\n",
      "Epoch 4/100\n",
      "54/54 [==============================] - 0s 3ms/step - loss: 0.0859 - accuracy: 0.9778\n",
      "Epoch 5/100\n",
      "54/54 [==============================] - 0s 3ms/step - loss: 0.0562 - accuracy: 0.9858\n",
      "Epoch 6/100\n",
      "54/54 [==============================] - 0s 3ms/step - loss: 0.0355 - accuracy: 0.9921\n",
      "Epoch 7/100\n",
      "54/54 [==============================] - 0s 4ms/step - loss: 0.0288 - accuracy: 0.9944\n",
      "Epoch 8/100\n",
      "54/54 [==============================] - 0s 3ms/step - loss: 0.0224 - accuracy: 0.9956\n",
      "Epoch 9/100\n",
      "54/54 [==============================] - 0s 3ms/step - loss: 0.0256 - accuracy: 0.9940\n",
      "Epoch 10/100\n",
      "54/54 [==============================] - 0s 3ms/step - loss: 0.0146 - accuracy: 0.9959\n",
      "Epoch 11/100\n",
      "54/54 [==============================] - 0s 3ms/step - loss: 0.0271 - accuracy: 0.9893\n",
      "Epoch 12/100\n",
      "54/54 [==============================] - 0s 3ms/step - loss: 0.0158 - accuracy: 0.9953\n",
      "Epoch 13/100\n",
      "54/54 [==============================] - 0s 3ms/step - loss: 0.0113 - accuracy: 0.9973\n",
      "Epoch 14/100\n",
      "54/54 [==============================] - 0s 3ms/step - loss: 0.0149 - accuracy: 0.9948\n",
      "Epoch 15/100\n",
      "54/54 [==============================] - 0s 3ms/step - loss: 0.0077 - accuracy: 0.9966\n",
      "Epoch 16/100\n",
      "54/54 [==============================] - 0s 3ms/step - loss: 0.0096 - accuracy: 0.9945\n",
      "Epoch 17/100\n",
      "54/54 [==============================] - 0s 3ms/step - loss: 0.0076 - accuracy: 0.9949\n",
      "Epoch 18/100\n",
      "54/54 [==============================] - 0s 3ms/step - loss: 0.0095 - accuracy: 0.9921\n",
      "Epoch 19/100\n",
      "54/54 [==============================] - 0s 3ms/step - loss: 0.0057 - accuracy: 0.9950\n",
      "Epoch 20/100\n",
      "54/54 [==============================] - 0s 3ms/step - loss: 0.0033 - accuracy: 0.9967\n",
      "Epoch 21/100\n",
      "54/54 [==============================] - 0s 3ms/step - loss: 0.0031 - accuracy: 0.9988\n",
      "Epoch 22/100\n",
      "54/54 [==============================] - 0s 3ms/step - loss: 0.0049 - accuracy: 0.9997\n",
      "Epoch 23/100\n",
      "54/54 [==============================] - 0s 3ms/step - loss: 0.0024 - accuracy: 1.0000\n",
      "Epoch 24/100\n",
      "54/54 [==============================] - 0s 3ms/step - loss: 0.0021 - accuracy: 1.0000\n",
      "Epoch 25/100\n",
      "54/54 [==============================] - 0s 5ms/step - loss: 8.8432e-04 - accuracy: 1.0000\n",
      "Epoch 26/100\n",
      "54/54 [==============================] - 0s 3ms/step - loss: 0.0012 - accuracy: 1.0000\n",
      "Epoch 27/100\n",
      "54/54 [==============================] - 0s 4ms/step - loss: 0.0015 - accuracy: 1.0000\n",
      "Epoch 28/100\n",
      "54/54 [==============================] - 0s 4ms/step - loss: 6.7917e-04 - accuracy: 1.0000\n",
      "Epoch 29/100\n",
      "54/54 [==============================] - 0s 4ms/step - loss: 2.7505e-04 - accuracy: 1.0000\n",
      "Epoch 30/100\n",
      "54/54 [==============================] - 0s 3ms/step - loss: 2.5920e-04 - accuracy: 1.0000\n",
      "Epoch 31/100\n",
      "54/54 [==============================] - 0s 4ms/step - loss: 1.1908e-04 - accuracy: 1.0000\n",
      "Epoch 32/100\n",
      "54/54 [==============================] - 0s 3ms/step - loss: 1.2328e-04 - accuracy: 1.0000\n",
      "Epoch 33/100\n",
      "54/54 [==============================] - 0s 3ms/step - loss: 8.7890e-05 - accuracy: 1.0000\n",
      "Epoch 34/100\n",
      "54/54 [==============================] - 0s 3ms/step - loss: 1.2764e-04 - accuracy: 1.0000\n",
      "Epoch 35/100\n",
      "54/54 [==============================] - 0s 3ms/step - loss: 6.7825e-05 - accuracy: 1.0000\n",
      "Epoch 36/100\n",
      "54/54 [==============================] - 0s 3ms/step - loss: 6.1550e-05 - accuracy: 1.0000\n",
      "Epoch 37/100\n",
      "54/54 [==============================] - 0s 3ms/step - loss: 3.7151e-05 - accuracy: 1.0000\n",
      "Epoch 38/100\n",
      "54/54 [==============================] - 0s 3ms/step - loss: 4.4523e-05 - accuracy: 1.0000\n",
      "Epoch 39/100\n",
      "54/54 [==============================] - 0s 3ms/step - loss: 7.8077e-05 - accuracy: 1.0000\n",
      "Epoch 40/100\n",
      "54/54 [==============================] - 0s 7ms/step - loss: 5.2055e-05 - accuracy: 1.0000: 0s - loss: 1.7805e-05 - accu\n",
      "Epoch 41/100\n",
      "54/54 [==============================] - 0s 3ms/step - loss: 4.4052e-05 - accuracy: 1.0000\n",
      "Epoch 42/100\n",
      "54/54 [==============================] - 0s 4ms/step - loss: 3.9873e-05 - accuracy: 1.0000\n",
      "Epoch 43/100\n",
      "54/54 [==============================] - 0s 3ms/step - loss: 3.6669e-05 - accuracy: 1.0000\n"
     ]
    },
    {
     "data": {
      "text/plain": [
       "<tensorflow.python.keras.callbacks.History at 0x13a6cad68>"
      ]
     },
     "execution_count": 80,
     "metadata": {},
     "output_type": "execute_result"
    }
   ],
   "source": [
    "from keras.models import Sequential\n",
    "from keras.layers import Dense, Input, AlphaDropout\n",
    "from keras.callbacks import EarlyStopping\n",
    "import numpy as np\n",
    "\n",
    "input_dim = X_train.shape[1]\n",
    "\n",
    "print(input_dim)\n",
    "\n",
    "model = Sequential()\n",
    "\n",
    "model.add(Dense(128, activation='relu', input_shape=(input_dim,)))\n",
    "model.add(Dense(64, activation='relu'))\n",
    "model.add(Dense(32, activation='relu'))\n",
    "model.add(Dense(16, activation='relu'))\n",
    "model.add(Dense(8, activation='relu'))\n",
    "model.add(Dense(4, activation='relu'))\n",
    "model.add(Dense(1, activation='sigmoid'))\n",
    "\n",
    "model.compile(loss='binary_crossentropy',\n",
    "              optimizer='adam',\n",
    "              metrics=['accuracy'])\n",
    "\n",
    "es = EarlyStopping(monitor='accuracy', patience=20, restore_best_weights=True)                   \n",
    "model.fit(X_train, y_train,epochs=100, batch_size=16, verbose=1, callbacks=[es])\n"
   ]
  },
  {
   "cell_type": "markdown",
   "metadata": {},
   "source": [
    "## Avaliação e Métricas"
   ]
  },
  {
   "cell_type": "code",
   "execution_count": 81,
   "metadata": {},
   "outputs": [
    {
     "name": "stdout",
     "output_type": "stream",
     "text": [
      "[[181   5]\n",
      " [  3 179]]\n",
      "              precision    recall  f1-score   support\n",
      "\n",
      "           0       0.98      0.97      0.98       186\n",
      "           1       0.97      0.98      0.98       182\n",
      "\n",
      "    accuracy                           0.98       368\n",
      "   macro avg       0.98      0.98      0.98       368\n",
      "weighted avg       0.98      0.98      0.98       368\n",
      "\n"
     ]
    }
   ],
   "source": [
    "from sklearn.metrics import classification_report, confusion_matrix\n",
    "#pega a predição\n",
    "#y_pred = model.predict_classes(X_test)\n",
    "y_pred = (model.predict(X_test) > 0.5).astype(\"int32\")\n",
    "\n",
    "print(confusion_matrix(y_test,y_pred))\n",
    "print(classification_report(y_test,y_pred))"
   ]
  },
  {
   "cell_type": "code",
   "execution_count": 82,
   "metadata": {},
   "outputs": [
    {
     "data": {
      "image/png": "[encoded data removed]",
      "text/plain": [
       "<Figure size 432x288 with 2 Axes>"
      ]
     },
     "metadata": {},
     "output_type": "display_data"
    }
   ],
   "source": [
    "# use seaborn plotting defaults\n",
    "import seaborn as sns; sns.set()\n",
    "\n",
    "mat = confusion_matrix(y_test,y_pred)\n",
    "sns.heatmap(mat.T, square=True, annot=True, fmt='d', cmap=\"Blues\", cbar=True,\n",
    "            xticklabels=['fake','real'],\n",
    "            yticklabels=['fake','real'])\n",
    "plt.xlabel('Valores preditos')\n",
    "plt.ylabel('Valores informados');\n"
   ]
  },
  {
   "cell_type": "code",
   "execution_count": 83,
   "metadata": {},
   "outputs": [
    {
     "name": "stdout",
     "output_type": "stream",
     "text": [
      "12/12 [==============================] - 0s 3ms/step - loss: 8.4873 - accuracy: 0.9783\n"
     ]
    }
   ],
   "source": [
    "score = model.evaluate(X_test, y_test,verbose=1)"
   ]
  },
  {
   "cell_type": "markdown",
   "metadata": {},
   "source": [
    "## Validação Cruzada"
   ]
  },
  {
   "cell_type": "code",
   "execution_count": 84,
   "metadata": {},
   "outputs": [
    {
     "name": "stdout",
     "output_type": "stream",
     "text": [
      "accuracy: 1.0000 - AUC 1.00 - F1 1.0000 \n",
      "accuracy: 1.0000 - AUC 1.00 - F1 1.0000 \n",
      "accuracy: 0.9919 - AUC 0.99 - F1 0.9919 \n",
      "accuracy: 1.0000 - AUC 1.00 - F1 1.0000 \n",
      "accuracy: 1.0000 - AUC 1.00 - F1 1.0000 \n",
      "accuracy: 0.9919 - AUC 0.99 - F1 0.9920 \n",
      "accuracy: 1.0000 - AUC 1.00 - F1 1.0000 \n",
      "accuracy: 1.0000 - AUC 1.00 - F1 1.0000 \n",
      "accuracy: 1.0000 - AUC 1.00 - F1 1.0000 \n",
      "accuracy: 0.9426 - AUC 0.94 - F1 0.9421 \n",
      ">> Acurácia 0.9926 (+/- 0.0170)\n",
      ">> AUC 0.9926 (+/- 0.0170)\n",
      ">> F1 0.9926 (+/- 0.0171)\n"
     ]
    }
   ],
   "source": [
    "from sklearn.model_selection import StratifiedKFold, KFold, cross_val_score \n",
    "from sklearn.metrics import roc_curve\n",
    "from sklearn.metrics import auc, f1_score\n",
    "\n",
    "# dfcv = pd.read_csv(\"datasets/ds_full_pt.csv\")\n",
    "# X = dfcv.drop('id', axis=1)\n",
    "# X = X.drop('rotulo', axis=1)\n",
    "# Y = dfcv['rotulo']\n",
    "\n",
    "# fix random seed for reproducibility\n",
    "seed = 109\n",
    "numpy.random.seed(seed)\n",
    "\n",
    "scaler = StandardScaler().fit(X)\n",
    "\n",
    "X = scaler.transform(X)\n",
    "\n",
    "# encoder = LabelEncoder()\n",
    "# encoder.fit(Y)\n",
    "# encoded_Y = encoder.transform(Y)\n",
    "\n",
    "#Y = encoded_Y.reshape(-1,1)\n",
    "Y = encoded_Y\n",
    "\n",
    "\n",
    "\n",
    "kfold = StratifiedKFold(n_splits=10, shuffle=True, random_state=seed)\n",
    "\n",
    "cvscores = []\n",
    "cvaucs = []\n",
    "f1s = []\n",
    "    \n",
    "for train, test in kfold.split(X, Y):   \n",
    "    scores = model.evaluate(X[test], Y[test], verbose=0)\n",
    "    #print(\"%s: %.4f%%\" % (model.metrics_names[1], scores[1]))\n",
    "    cvscores.append(scores[1])\n",
    "    \n",
    "    #Calculo do AUC\n",
    "    #y_pred_keras = model.predict(X[test]).ravel()\n",
    "    y_pred_keras = (model.predict(X[test]) > 0.5).astype(\"int32\")\n",
    "    fpr_keras, tpr_keras, thresholds_keras = roc_curve(Y[test], y_pred_keras)\n",
    "    auc_keras = auc(fpr_keras, tpr_keras)\n",
    "    #print(\"auc_keras %.4f%%\" % (auc_keras))\n",
    "    cvaucs.append(auc_keras)\n",
    "    \n",
    "    #F1-score\n",
    "    #f1_pred = model.predict_classes(X[test])\n",
    "    f1_pred = (model.predict(X[test]) > 0.5).astype(\"int32\")\n",
    "\n",
    "    f1 = f1_score(Y[test], f1_pred, average=\"binary\")\n",
    "    f1s.append(f1)\n",
    "    print(\"%s: %.4f - AUC %.2f - F1 %.4f \" % (model.metrics_names[1], scores[1], auc_keras, f1 ))\n",
    "    \n",
    "print(\">> Acurácia %.4f (+/- %.4f)\" % (numpy.mean(cvscores), numpy.std(cvscores)))\n",
    "print(\">> AUC %.4f (+/- %.4f)\" % (numpy.mean(cvaucs), numpy.std(cvaucs)))\n",
    "print(\">> F1 %.4f (+/- %.4f)\" % (numpy.mean(f1s), numpy.std(f1s)))"
   ]
  },
  {
   "cell_type": "markdown",
   "metadata": {},
   "source": [
    "## Resultados Finais"
   ]
  },
  {
   "cell_type": "code",
   "execution_count": 12,
   "metadata": {},
   "outputs": [
    {
     "name": "stdout",
     "output_type": "stream",
     "text": [
      "[[189   2]\n",
      " [  1 190]]\n",
      "              precision    recall  f1-score   support\n",
      "\n",
      "           0       0.99      0.99      0.99       191\n",
      "           1       0.99      0.99      0.99       191\n",
      "\n",
      "    accuracy                           0.99       382\n",
      "   macro avg       0.99      0.99      0.99       382\n",
      "weighted avg       0.99      0.99      0.99       382\n",
      "\n"
     ]
    }
   ],
   "source": [
    "#y_pred_total = model.predict_classes(X)\n",
    "y_pred_total = (model.predict(X) > 0.5).astype(\"int32\")\n",
    "\n",
    "print(confusion_matrix(Y, y_pred_total))\n",
    "print(classification_report(Y, y_pred_total))"
   ]
  },
  {
   "cell_type": "code",
   "execution_count": 13,
   "metadata": {},
   "outputs": [
    {
     "data": {
      "image/png": "[encoded data removed]",
      "text/plain": [
       "<Figure size 432x288 with 2 Axes>"
      ]
     },
     "metadata": {},
     "output_type": "display_data"
    }
   ],
   "source": [
    "# use seaborn plotting defaults\n",
    "import seaborn as sns\n",
    "\n",
    "mat = confusion_matrix(Y, y_pred_total)\n",
    "sns.heatmap(mat, square=True, annot=True, fmt='d', cmap=\"Blues\", cbar=True,\n",
    "            xticklabels=['fake','real'],\n",
    "            yticklabels=['fake','real'])\n",
    "plt.xlabel('Valores Preditos')\n",
    "plt.ylabel('Valores Reais');"
   ]
  },
  {
   "cell_type": "code",
   "execution_count": null,
   "metadata": {},
   "outputs": [],
   "source": []
  }
 ],
 "metadata": {
  "kernelspec": {
   "display_name": "Python 3",
   "language": "python",
   "name": "python3"
  },
  "language_info": {
   "codemirror_mode": {
    "name": "ipython",
    "version": 3
   },
   "file_extension": ".py",
   "mimetype": "text/x-python",
   "name": "python",
   "nbconvert_exporter": "python",
   "pygments_lexer": "ipython3",
   "version": "3.7.0"
  }
 },
 "nbformat": 4,
 "nbformat_minor": 4
}
