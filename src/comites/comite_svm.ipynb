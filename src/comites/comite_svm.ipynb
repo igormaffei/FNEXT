{
 "cells": [
  {
   "cell_type": "markdown",
   "metadata": {},
   "source": [
    "# Comitê SVM"
   ]
  },
  {
   "cell_type": "code",
   "execution_count": 50,
   "metadata": {},
   "outputs": [],
   "source": [
    "import pandas as pd\n",
    "import numpy as np\n",
    "import matplotlib.pyplot as plt\n",
    "%matplotlib inline"
   ]
  },
  {
   "cell_type": "code",
   "execution_count": 58,
   "metadata": {},
   "outputs": [
    {
     "data": {
      "text/html": [
       "<div>\n",
       "<style scoped>\n",
       "    .dataframe tbody tr th:only-of-type {\n",
       "        vertical-align: middle;\n",
       "    }\n",
       "\n",
       "    .dataframe tbody tr th {\n",
       "        vertical-align: top;\n",
       "    }\n",
       "\n",
       "    .dataframe thead th {\n",
       "        text-align: right;\n",
       "    }\n",
       "</style>\n",
       "<table border=\"1\" class=\"dataframe\">\n",
       "  <thead>\n",
       "    <tr style=\"text-align: right;\">\n",
       "      <th></th>\n",
       "      <th>id</th>\n",
       "      <th>MAIUSCULAS_x</th>\n",
       "      <th>EXCLAMA_x</th>\n",
       "      <th>ASPAS_x</th>\n",
       "      <th>POL_ABSOLUTO_x</th>\n",
       "      <th>funct</th>\n",
       "      <th>pronoun_x</th>\n",
       "      <th>ppron_x</th>\n",
       "      <th>i_x</th>\n",
       "      <th>we_x</th>\n",
       "      <th>...</th>\n",
       "      <th>anger_y</th>\n",
       "      <th>sad_y</th>\n",
       "      <th>rotulo</th>\n",
       "      <th>ADA</th>\n",
       "      <th>GRD</th>\n",
       "      <th>KNN</th>\n",
       "      <th>NB</th>\n",
       "      <th>RF</th>\n",
       "      <th>RL</th>\n",
       "      <th>SVM</th>\n",
       "    </tr>\n",
       "  </thead>\n",
       "  <tbody>\n",
       "    <tr>\n",
       "      <th>0</th>\n",
       "      <td>53</td>\n",
       "      <td>0.155062</td>\n",
       "      <td>0.0</td>\n",
       "      <td>0.0</td>\n",
       "      <td>0.50</td>\n",
       "      <td>0.597229</td>\n",
       "      <td>0.482377</td>\n",
       "      <td>0.292642</td>\n",
       "      <td>0.210033</td>\n",
       "      <td>0.0</td>\n",
       "      <td>...</td>\n",
       "      <td>0.0</td>\n",
       "      <td>0.0</td>\n",
       "      <td>FALSO</td>\n",
       "      <td>0</td>\n",
       "      <td>0</td>\n",
       "      <td>0</td>\n",
       "      <td>1</td>\n",
       "      <td>0</td>\n",
       "      <td>0</td>\n",
       "      <td>0</td>\n",
       "    </tr>\n",
       "    <tr>\n",
       "      <th>1</th>\n",
       "      <td>1136</td>\n",
       "      <td>0.032086</td>\n",
       "      <td>0.0</td>\n",
       "      <td>0.0</td>\n",
       "      <td>0.25</td>\n",
       "      <td>0.391333</td>\n",
       "      <td>0.266170</td>\n",
       "      <td>0.173010</td>\n",
       "      <td>0.000000</td>\n",
       "      <td>0.0</td>\n",
       "      <td>...</td>\n",
       "      <td>0.0</td>\n",
       "      <td>0.0</td>\n",
       "      <td>VERDADE</td>\n",
       "      <td>1</td>\n",
       "      <td>1</td>\n",
       "      <td>1</td>\n",
       "      <td>1</td>\n",
       "      <td>1</td>\n",
       "      <td>0</td>\n",
       "      <td>0</td>\n",
       "    </tr>\n",
       "    <tr>\n",
       "      <th>2</th>\n",
       "      <td>695</td>\n",
       "      <td>0.727273</td>\n",
       "      <td>0.0</td>\n",
       "      <td>0.0</td>\n",
       "      <td>0.50</td>\n",
       "      <td>0.291783</td>\n",
       "      <td>0.282805</td>\n",
       "      <td>0.245098</td>\n",
       "      <td>0.000000</td>\n",
       "      <td>0.0</td>\n",
       "      <td>...</td>\n",
       "      <td>0.0</td>\n",
       "      <td>0.0</td>\n",
       "      <td>FALSO</td>\n",
       "      <td>0</td>\n",
       "      <td>0</td>\n",
       "      <td>0</td>\n",
       "      <td>1</td>\n",
       "      <td>0</td>\n",
       "      <td>0</td>\n",
       "      <td>0</td>\n",
       "    </tr>\n",
       "    <tr>\n",
       "      <th>3</th>\n",
       "      <td>3312</td>\n",
       "      <td>0.069199</td>\n",
       "      <td>0.0</td>\n",
       "      <td>0.0</td>\n",
       "      <td>625.00</td>\n",
       "      <td>0.510839</td>\n",
       "      <td>0.251148</td>\n",
       "      <td>0.139925</td>\n",
       "      <td>0.000000</td>\n",
       "      <td>0.0</td>\n",
       "      <td>...</td>\n",
       "      <td>0.0</td>\n",
       "      <td>0.0</td>\n",
       "      <td>VERDADE</td>\n",
       "      <td>1</td>\n",
       "      <td>1</td>\n",
       "      <td>1</td>\n",
       "      <td>1</td>\n",
       "      <td>1</td>\n",
       "      <td>1</td>\n",
       "      <td>1</td>\n",
       "    </tr>\n",
       "    <tr>\n",
       "      <th>4</th>\n",
       "      <td>1314</td>\n",
       "      <td>0.000000</td>\n",
       "      <td>0.0</td>\n",
       "      <td>0.0</td>\n",
       "      <td>0.50</td>\n",
       "      <td>0.505184</td>\n",
       "      <td>0.248368</td>\n",
       "      <td>0.138376</td>\n",
       "      <td>0.000000</td>\n",
       "      <td>0.0</td>\n",
       "      <td>...</td>\n",
       "      <td>0.0</td>\n",
       "      <td>0.0</td>\n",
       "      <td>VERDADE</td>\n",
       "      <td>1</td>\n",
       "      <td>1</td>\n",
       "      <td>1</td>\n",
       "      <td>1</td>\n",
       "      <td>1</td>\n",
       "      <td>1</td>\n",
       "      <td>1</td>\n",
       "    </tr>\n",
       "  </tbody>\n",
       "</table>\n",
       "<p>5 rows × 64 columns</p>\n",
       "</div>"
      ],
      "text/plain": [
       "     id  MAIUSCULAS_x  EXCLAMA_x  ASPAS_x  POL_ABSOLUTO_x     funct  \\\n",
       "0    53      0.155062        0.0      0.0            0.50  0.597229   \n",
       "1  1136      0.032086        0.0      0.0            0.25  0.391333   \n",
       "2   695      0.727273        0.0      0.0            0.50  0.291783   \n",
       "3  3312      0.069199        0.0      0.0          625.00  0.510839   \n",
       "4  1314      0.000000        0.0      0.0            0.50  0.505184   \n",
       "\n",
       "   pronoun_x   ppron_x       i_x  we_x  ...  anger_y  sad_y   rotulo  ADA  \\\n",
       "0   0.482377  0.292642  0.210033   0.0  ...      0.0    0.0    FALSO    0   \n",
       "1   0.266170  0.173010  0.000000   0.0  ...      0.0    0.0  VERDADE    1   \n",
       "2   0.282805  0.245098  0.000000   0.0  ...      0.0    0.0    FALSO    0   \n",
       "3   0.251148  0.139925  0.000000   0.0  ...      0.0    0.0  VERDADE    1   \n",
       "4   0.248368  0.138376  0.000000   0.0  ...      0.0    0.0  VERDADE    1   \n",
       "\n",
       "   GRD  KNN  NB  RF  RL  SVM  \n",
       "0    0    0   1   0   0    0  \n",
       "1    1    1   1   1   0    0  \n",
       "2    0    0   1   0   0    0  \n",
       "3    1    1   1   1   1    1  \n",
       "4    1    1   1   1   1    1  \n",
       "\n",
       "[5 rows x 64 columns]"
      ]
     },
     "execution_count": 58,
     "metadata": {},
     "output_type": "execute_result"
    }
   ],
   "source": [
    "#data = pd.read_csv(\"../datasets/ds_comite_texto.csv\")\n",
    "#data = pd.read_csv(\"../datasets/ds_comite_full.csv\")\n",
    "#data = pd.read_csv(\"../datasets2/ds_comite_texto.csv\")\n",
    "#data = pd.read_csv(\"../datasets2/ds_comite_full.csv\")\n",
    "#data = pd.read_csv(\"../datasets/ds_comite_textov2.csv\")\n",
    "#data = pd.read_csv(\"../datasets/ds_comite_fullv2.csv\")\n",
    "#data = pd.read_csv(\"../datasets2/ds_comite_textov2.csv\")\n",
    "data = pd.read_csv(\"../datasets2/ds_comite_fullv2.csv\")\n",
    "\n",
    "\n",
    "\n",
    "data.head()"
   ]
  },
  {
   "cell_type": "code",
   "execution_count": 59,
   "metadata": {},
   "outputs": [],
   "source": [
    "X = data.drop('id', axis=1)\n",
    "X = X.drop('rotulo', axis=1)\n",
    "X = X.drop('SVM', axis=1) #<----\n",
    "y = data['rotulo']"
   ]
  },
  {
   "cell_type": "markdown",
   "metadata": {},
   "source": [
    "## Prepara o Conjunto para Teste"
   ]
  },
  {
   "cell_type": "code",
   "execution_count": 60,
   "metadata": {},
   "outputs": [
    {
     "name": "stdout",
     "output_type": "stream",
     "text": [
      "Original dataset: Counter({'VERDADE': 613, 'FALSO': 379})\n",
      "Resampled dataset: Counter({'FALSO': 613, 'VERDADE': 613})\n"
     ]
    }
   ],
   "source": [
    "from sklearn.model_selection import train_test_split\n",
    "from imblearn.over_sampling import SMOTE\n",
    "from imblearn.under_sampling import RandomUnderSampler\n",
    "from imblearn.pipeline import Pipeline\n",
    "from collections import Counter\n",
    "\n",
    "### SMOTE dataset pq ele é desbalanceado\n",
    "over = SMOTE(sampling_strategy=1, random_state=109)\n",
    "under = RandomUnderSampler(sampling_strategy=1, random_state=109)\n",
    "steps = [('o', over), ('u', under)]\n",
    "pipeline = Pipeline(steps=steps)\n",
    "\n",
    "print('Original dataset:', Counter(y))\n",
    "\n",
    "X, y = pipeline.fit_resample(X, y)\n",
    "\n",
    "print('Resampled dataset:', Counter(y))\n",
    "\n",
    "X_train, X_test, y_train, y_test = train_test_split(X, y, test_size=0.3, random_state=109)"
   ]
  },
  {
   "cell_type": "markdown",
   "metadata": {},
   "source": [
    "## Treinamento"
   ]
  },
  {
   "cell_type": "code",
   "execution_count": 61,
   "metadata": {},
   "outputs": [],
   "source": [
    "from sklearn import svm\n",
    "\n",
    "model = svm.SVC(kernel='linear', C=1000, gamma=0.0001)\n",
    "\n",
    "model.fit(X_train, y_train)\n",
    "y_pred = model.predict(X_test)"
   ]
  },
  {
   "cell_type": "code",
   "execution_count": 62,
   "metadata": {},
   "outputs": [
    {
     "name": "stdout",
     "output_type": "stream",
     "text": [
      "[[176  10]\n",
      " [  7 175]]\n",
      "              precision    recall  f1-score   support\n",
      "\n",
      "       FALSO       0.96      0.95      0.95       186\n",
      "     VERDADE       0.95      0.96      0.95       182\n",
      "\n",
      "    accuracy                           0.95       368\n",
      "   macro avg       0.95      0.95      0.95       368\n",
      "weighted avg       0.95      0.95      0.95       368\n",
      "\n"
     ]
    }
   ],
   "source": [
    "from sklearn.metrics import classification_report, confusion_matrix\n",
    "\n",
    "print(confusion_matrix(y_test,y_pred))\n",
    "print(classification_report(y_test,y_pred))"
   ]
  },
  {
   "cell_type": "code",
   "execution_count": 63,
   "metadata": {},
   "outputs": [
    {
     "data": {
      "image/png": "[encoded data removed]",
      "text/plain": [
       "<Figure size 432x288 with 2 Axes>"
      ]
     },
     "metadata": {},
     "output_type": "display_data"
    }
   ],
   "source": [
    "import seaborn as sns; sns.set()\n",
    "\n",
    "mat = confusion_matrix(y_test,y_pred)\n",
    "sns.heatmap(mat, square=True, annot=True, fmt='d', cmap=\"Blues\", cbar=True,\n",
    "            xticklabels=['fake','real'],\n",
    "            yticklabels=['fake','real'])\n",
    "plt.xlabel('true label')\n",
    "plt.ylabel('predicted label');"
   ]
  },
  {
   "cell_type": "markdown",
   "metadata": {},
   "source": [
    "# Validação Cruzada"
   ]
  },
  {
   "cell_type": "code",
   "execution_count": 64,
   "metadata": {},
   "outputs": [
    {
     "name": "stdout",
     "output_type": "stream",
     "text": [
      "Accuracy: 0.9616 (+/- 0.0628) \n",
      "AUC: 0.9690 (+/- 0.0489) \n",
      "F1: 0.9607 (+/- 0.0645) \n"
     ]
    }
   ],
   "source": [
    "from sklearn.model_selection import  StratifiedKFold, KFold, cross_val_score  \n",
    "from sklearn.preprocessing import LabelEncoder\n",
    "from sklearn.metrics import accuracy_score\n",
    "from sklearn.metrics import make_scorer\n",
    "\n",
    "# dfcv = pd.read_csv(\"datasets/ds_full_validacao.csv\")\n",
    "\n",
    "# Xcv = dfcv.drop('rotulo', axis=1)\n",
    "# Ycv = dfcv['rotulo']\n",
    "\n",
    "Xcv = X\n",
    "Ycv = y\n",
    "\n",
    "# print('Original dataset:', Counter(Ycv))\n",
    "# Xcv, Ycv = pipeline.fit_resample(Xcv, Ycv)\n",
    "# print('Resampled dataset:', Counter(Ycv))\n",
    "\n",
    "\n",
    "k_folds = StratifiedKFold(n_splits=10, random_state=109, shuffle=True)\n",
    "\n",
    "scores = cross_val_score(model, Xcv, Ycv, cv=k_folds, scoring='accuracy',n_jobs=-1, verbose=False)\n",
    "print(\"Accuracy: %0.4f (+/- %0.4f) \"% (scores.mean(), scores.std()))\n",
    "\n",
    "auc = cross_val_score(model, Xcv, Ycv,  cv=k_folds, scoring = 'roc_auc')\n",
    "print(\"AUC: %0.4f (+/- %0.4f) \"% (auc.mean(), auc.std()))\n",
    "\n",
    "#total_preds = model.predict(Xcv)\n",
    "\n",
    "#Transforma para 0 e 1\n",
    "encoder = LabelEncoder()\n",
    "encoder.fit(Ycv)\n",
    "encoded_Y = encoder.transform(Ycv)\n",
    "\n",
    "f1 = cross_val_score(model, Xcv, encoded_Y, cv=k_folds, scoring='f1', n_jobs=-1, verbose=False)\n",
    "print(\"F1: %0.4f (+/- %0.4f) \"% (f1.mean(), f1.std()))"
   ]
  },
  {
   "cell_type": "markdown",
   "metadata": {},
   "source": [
    "## Matriz de Confusão K-Fold"
   ]
  },
  {
   "cell_type": "code",
   "execution_count": 18,
   "metadata": {},
   "outputs": [
    {
     "name": "stdout",
     "output_type": "stream",
     "text": [
      "[[191   0]\n",
      " [  1 190]]\n",
      "              precision    recall  f1-score   support\n",
      "\n",
      "       FALSO       0.99      1.00      1.00       191\n",
      "  VERDADEIRO       1.00      0.99      1.00       191\n",
      "\n",
      "    accuracy                           1.00       382\n",
      "   macro avg       1.00      1.00      1.00       382\n",
      "weighted avg       1.00      1.00      1.00       382\n",
      "\n"
     ]
    },
    {
     "data": {
      "image/png": "[encoded data removed]",
      "text/plain": [
       "<Figure size 432x288 with 2 Axes>"
      ]
     },
     "metadata": {},
     "output_type": "display_data"
    }
   ],
   "source": [
    "from sklearn.model_selection import cross_val_predict\n",
    "\n",
    "y_pred_cv = cross_val_predict(model, Xcv, Ycv, cv=k_folds)\n",
    "mat_cv = confusion_matrix(Ycv, y_pred_cv)\n",
    "\n",
    "print(mat_cv)\n",
    "print(classification_report(Ycv, y_pred_cv))\n",
    "\n",
    "sns.heatmap(mat_cv, square=True, annot=True, fmt='d', cmap=\"Blues\", cbar=True,\n",
    "            xticklabels=['fake','real'],\n",
    "            yticklabels=['fake','real'])\n",
    "plt.xlabel('Valores Preditos')\n",
    "plt.ylabel('Valores Reais');"
   ]
  },
  {
   "cell_type": "markdown",
   "metadata": {},
   "source": [
    "## Curva ROC K-Fold"
   ]
  },
  {
   "cell_type": "code",
   "execution_count": 19,
   "metadata": {},
   "outputs": [
    {
     "data": {
      "image/png": "[encoded data removed]",
      "text/plain": [
       "<Figure size 720x576 with 1 Axes>"
      ]
     },
     "metadata": {},
     "output_type": "display_data"
    }
   ],
   "source": [
    "from sklearn.metrics import auc\n",
    "from sklearn.metrics import plot_roc_curve\n",
    "from sklearn.model_selection import StratifiedKFold\n",
    "from sklearn.preprocessing import MinMaxScaler\n",
    "from sklearn.preprocessing import LabelEncoder\n",
    "\n",
    "#Trabalha o Dataset Para poder ser printado\n",
    "# Xcv = X\n",
    "# Ycv = y\n",
    "scaler = MinMaxScaler().fit(Xcv)\n",
    "Xcv = scaler.transform(Xcv)\n",
    "\n",
    "encoder = LabelEncoder()\n",
    "encoder.fit(Ycv)\n",
    "Ycv = encoder.transform(Ycv)\n",
    "\n",
    "tprs = []\n",
    "aucs = []\n",
    "mean_fpr = np.linspace(0, 1, 100)\n",
    "\n",
    "fig, ax = plt.subplots(figsize=(10,8))\n",
    "for i,(train, test) in enumerate(k_folds.split(Xcv, Ycv)):\n",
    "    model.fit(Xcv[train], Ycv[train])\n",
    "    viz = plot_roc_curve(model, Xcv[test], Ycv[test],\n",
    "                         name='ROC fold {}'.format(i),\n",
    "                         alpha=0.3, lw=1, ax=ax)\n",
    "    interp_tpr = np.interp(mean_fpr, viz.fpr, viz.tpr)\n",
    "    interp_tpr[0] = 0.0\n",
    "    tprs.append(interp_tpr)\n",
    "    aucs.append(viz.roc_auc)\n",
    "\n",
    "ax.plot([0, 1], [0, 1], linestyle='--', lw=2, color='r',\n",
    "        label='Sorte', alpha=.8)\n",
    "\n",
    "mean_tpr = np.mean(tprs, axis=0)\n",
    "mean_tpr[-1] = 1.0\n",
    "mean_auc = auc(mean_fpr, mean_tpr)\n",
    "std_auc = np.std(aucs)\n",
    "ax.plot(mean_fpr, mean_tpr, color='b',\n",
    "       label=r'Média ROC (AUC = %0.2f $\\pm$ %0.2f)' % (mean_auc, std_auc),\n",
    "       lw=3, alpha=.8)\n",
    "\n",
    "std_tpr = np.std(tprs, axis=0)\n",
    "tprs_upper = np.minimum(mean_tpr + std_tpr, 1)\n",
    "tprs_lower = np.maximum(mean_tpr - std_tpr, 0)\n",
    "ax.fill_between(mean_fpr, tprs_lower, tprs_upper, color='gray', alpha=.2,\n",
    "                label=r'$\\pm$ 1 desvio padrão (std)')\n",
    "\n",
    "ax.set(xlim=[-0.05, 1.05], ylim=[-0.05, 1.05],\n",
    "       title=\"Curva ROC\")\n",
    "ax.legend(loc=0)\n",
    "plt.xlabel('Taxa de Falsos Positivos')\n",
    "plt.ylabel('Taxa de Verdadeiros Positivos')\n",
    "plt.show()"
   ]
  },
  {
   "cell_type": "code",
   "execution_count": null,
   "metadata": {},
   "outputs": [],
   "source": []
  }
 ],
 "metadata": {
  "kernelspec": {
   "display_name": "Python 3",
   "language": "python",
   "name": "python3"
  },
  "language_info": {
   "codemirror_mode": {
    "name": "ipython",
    "version": 3
   },
   "file_extension": ".py",
   "mimetype": "text/x-python",
   "name": "python",
   "nbconvert_exporter": "python",
   "pygments_lexer": "ipython3",
   "version": "3.7.0"
  }
 },
 "nbformat": 4,
 "nbformat_minor": 4
}
