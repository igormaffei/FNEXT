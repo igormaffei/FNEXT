{
 "cells": [
  {
   "cell_type": "markdown",
   "metadata": {},
   "source": [
    "# Comite Votação Simples"
   ]
  },
  {
   "cell_type": "code",
   "execution_count": 1,
   "metadata": {},
   "outputs": [],
   "source": [
    "import numpy \n",
    "import pandas as pd"
   ]
  },
  {
   "cell_type": "code",
   "execution_count": 2,
   "metadata": {},
   "outputs": [
    {
     "data": {
      "text/html": [
       "<div>\n",
       "<style scoped>\n",
       "    .dataframe tbody tr th:only-of-type {\n",
       "        vertical-align: middle;\n",
       "    }\n",
       "\n",
       "    .dataframe tbody tr th {\n",
       "        vertical-align: top;\n",
       "    }\n",
       "\n",
       "    .dataframe thead th {\n",
       "        text-align: right;\n",
       "    }\n",
       "</style>\n",
       "<table border=\"1\" class=\"dataframe\">\n",
       "  <thead>\n",
       "    <tr style=\"text-align: right;\">\n",
       "      <th></th>\n",
       "      <th>tweetCount</th>\n",
       "      <th>retweetCount</th>\n",
       "      <th>favoriteCount</th>\n",
       "      <th>rotulo</th>\n",
       "      <th>KNN</th>\n",
       "      <th>NB</th>\n",
       "      <th>RF</th>\n",
       "      <th>XGB</th>\n",
       "      <th>DEEP</th>\n",
       "      <th>SVM</th>\n",
       "    </tr>\n",
       "  </thead>\n",
       "  <tbody>\n",
       "    <tr>\n",
       "      <th>0</th>\n",
       "      <td>9</td>\n",
       "      <td>5</td>\n",
       "      <td>19</td>\n",
       "      <td>real</td>\n",
       "      <td>1</td>\n",
       "      <td>1</td>\n",
       "      <td>1</td>\n",
       "      <td>1</td>\n",
       "      <td>1</td>\n",
       "      <td>1</td>\n",
       "    </tr>\n",
       "    <tr>\n",
       "      <th>1</th>\n",
       "      <td>5</td>\n",
       "      <td>0</td>\n",
       "      <td>4</td>\n",
       "      <td>fake</td>\n",
       "      <td>0</td>\n",
       "      <td>1</td>\n",
       "      <td>0</td>\n",
       "      <td>0</td>\n",
       "      <td>1</td>\n",
       "      <td>1</td>\n",
       "    </tr>\n",
       "    <tr>\n",
       "      <th>2</th>\n",
       "      <td>212</td>\n",
       "      <td>944</td>\n",
       "      <td>3373</td>\n",
       "      <td>fake</td>\n",
       "      <td>0</td>\n",
       "      <td>0</td>\n",
       "      <td>0</td>\n",
       "      <td>0</td>\n",
       "      <td>1</td>\n",
       "      <td>0</td>\n",
       "    </tr>\n",
       "    <tr>\n",
       "      <th>3</th>\n",
       "      <td>6</td>\n",
       "      <td>10</td>\n",
       "      <td>86</td>\n",
       "      <td>real</td>\n",
       "      <td>1</td>\n",
       "      <td>1</td>\n",
       "      <td>1</td>\n",
       "      <td>1</td>\n",
       "      <td>1</td>\n",
       "      <td>1</td>\n",
       "    </tr>\n",
       "    <tr>\n",
       "      <th>4</th>\n",
       "      <td>33</td>\n",
       "      <td>2</td>\n",
       "      <td>3</td>\n",
       "      <td>real</td>\n",
       "      <td>1</td>\n",
       "      <td>1</td>\n",
       "      <td>1</td>\n",
       "      <td>1</td>\n",
       "      <td>0</td>\n",
       "      <td>1</td>\n",
       "    </tr>\n",
       "  </tbody>\n",
       "</table>\n",
       "</div>"
      ],
      "text/plain": [
       "   tweetCount  retweetCount  favoriteCount rotulo  KNN  NB  RF  XGB  DEEP  SVM\n",
       "0           9             5             19   real    1   1   1    1     1    1\n",
       "1           5             0              4   fake    0   1   0    0     1    1\n",
       "2         212           944           3373   fake    0   0   0    0     1    0\n",
       "3           6            10             86   real    1   1   1    1     1    1\n",
       "4          33             2              3   real    1   1   1    1     0    1"
      ]
     },
     "execution_count": 2,
     "metadata": {},
     "output_type": "execute_result"
    }
   ],
   "source": [
    "data = pd.read_csv(\"../datasets/ds_comite_texto.csv\")\n",
    "data.head()"
   ]
  },
  {
   "cell_type": "markdown",
   "metadata": {},
   "source": [
    "## Remove os atributos inicias para poder realizar a votação"
   ]
  },
  {
   "cell_type": "code",
   "execution_count": 3,
   "metadata": {},
   "outputs": [],
   "source": [
    "#Remove os atributos inicias para poder realizar a votação\n",
    "data = data.drop('tweetCount', axis=1)\n",
    "data = data.drop('retweetCount', axis=1)\n",
    "data = data.drop('favoriteCount', axis=1)"
   ]
  },
  {
   "cell_type": "code",
   "execution_count": 4,
   "metadata": {},
   "outputs": [
    {
     "name": "stdout",
     "output_type": "stream",
     "text": [
      "['rotulo', 'KNN', 'NB', 'RF', 'XGB', 'DEEP', 'SVM']\n"
     ]
    }
   ],
   "source": [
    "column_list = list(data)\n",
    "print(column_list)"
   ]
  },
  {
   "cell_type": "code",
   "execution_count": 5,
   "metadata": {},
   "outputs": [],
   "source": [
    "column_list.remove('rotulo')\n",
    "#column_list.remove('NB') #remove pior algoritmo"
   ]
  },
  {
   "cell_type": "code",
   "execution_count": 6,
   "metadata": {},
   "outputs": [
    {
     "name": "stdout",
     "output_type": "stream",
     "text": [
      "['KNN', 'NB', 'RF', 'XGB', 'DEEP', 'SVM']\n"
     ]
    }
   ],
   "source": [
    "print(column_list)"
   ]
  },
  {
   "cell_type": "code",
   "execution_count": 7,
   "metadata": {},
   "outputs": [
    {
     "data": {
      "text/html": [
       "<div>\n",
       "<style scoped>\n",
       "    .dataframe tbody tr th:only-of-type {\n",
       "        vertical-align: middle;\n",
       "    }\n",
       "\n",
       "    .dataframe tbody tr th {\n",
       "        vertical-align: top;\n",
       "    }\n",
       "\n",
       "    .dataframe thead th {\n",
       "        text-align: right;\n",
       "    }\n",
       "</style>\n",
       "<table border=\"1\" class=\"dataframe\">\n",
       "  <thead>\n",
       "    <tr style=\"text-align: right;\">\n",
       "      <th></th>\n",
       "      <th>rotulo</th>\n",
       "      <th>KNN</th>\n",
       "      <th>NB</th>\n",
       "      <th>RF</th>\n",
       "      <th>XGB</th>\n",
       "      <th>DEEP</th>\n",
       "      <th>SVM</th>\n",
       "      <th>sum</th>\n",
       "    </tr>\n",
       "  </thead>\n",
       "  <tbody>\n",
       "    <tr>\n",
       "      <th>0</th>\n",
       "      <td>real</td>\n",
       "      <td>1</td>\n",
       "      <td>1</td>\n",
       "      <td>1</td>\n",
       "      <td>1</td>\n",
       "      <td>1</td>\n",
       "      <td>1</td>\n",
       "      <td>6</td>\n",
       "    </tr>\n",
       "    <tr>\n",
       "      <th>1</th>\n",
       "      <td>fake</td>\n",
       "      <td>0</td>\n",
       "      <td>1</td>\n",
       "      <td>0</td>\n",
       "      <td>0</td>\n",
       "      <td>1</td>\n",
       "      <td>1</td>\n",
       "      <td>3</td>\n",
       "    </tr>\n",
       "    <tr>\n",
       "      <th>2</th>\n",
       "      <td>fake</td>\n",
       "      <td>0</td>\n",
       "      <td>0</td>\n",
       "      <td>0</td>\n",
       "      <td>0</td>\n",
       "      <td>1</td>\n",
       "      <td>0</td>\n",
       "      <td>1</td>\n",
       "    </tr>\n",
       "    <tr>\n",
       "      <th>3</th>\n",
       "      <td>real</td>\n",
       "      <td>1</td>\n",
       "      <td>1</td>\n",
       "      <td>1</td>\n",
       "      <td>1</td>\n",
       "      <td>1</td>\n",
       "      <td>1</td>\n",
       "      <td>6</td>\n",
       "    </tr>\n",
       "    <tr>\n",
       "      <th>4</th>\n",
       "      <td>real</td>\n",
       "      <td>1</td>\n",
       "      <td>1</td>\n",
       "      <td>1</td>\n",
       "      <td>1</td>\n",
       "      <td>0</td>\n",
       "      <td>1</td>\n",
       "      <td>5</td>\n",
       "    </tr>\n",
       "  </tbody>\n",
       "</table>\n",
       "</div>"
      ],
      "text/plain": [
       "  rotulo  KNN  NB  RF  XGB  DEEP  SVM  sum\n",
       "0   real    1   1   1    1     1    1    6\n",
       "1   fake    0   1   0    0     1    1    3\n",
       "2   fake    0   0   0    0     1    0    1\n",
       "3   real    1   1   1    1     1    1    6\n",
       "4   real    1   1   1    1     0    1    5"
      ]
     },
     "execution_count": 7,
     "metadata": {},
     "output_type": "execute_result"
    }
   ],
   "source": [
    "data['sum'] = data[column_list].sum(axis=1) \n",
    "data.head()"
   ]
  },
  {
   "cell_type": "code",
   "execution_count": 8,
   "metadata": {},
   "outputs": [
    {
     "data": {
      "text/html": [
       "<div>\n",
       "<style scoped>\n",
       "    .dataframe tbody tr th:only-of-type {\n",
       "        vertical-align: middle;\n",
       "    }\n",
       "\n",
       "    .dataframe tbody tr th {\n",
       "        vertical-align: top;\n",
       "    }\n",
       "\n",
       "    .dataframe thead th {\n",
       "        text-align: right;\n",
       "    }\n",
       "</style>\n",
       "<table border=\"1\" class=\"dataframe\">\n",
       "  <thead>\n",
       "    <tr style=\"text-align: right;\">\n",
       "      <th></th>\n",
       "      <th>rotulo</th>\n",
       "      <th>KNN</th>\n",
       "      <th>NB</th>\n",
       "      <th>RF</th>\n",
       "      <th>XGB</th>\n",
       "      <th>DEEP</th>\n",
       "      <th>SVM</th>\n",
       "      <th>sum</th>\n",
       "      <th>vote</th>\n",
       "    </tr>\n",
       "  </thead>\n",
       "  <tbody>\n",
       "    <tr>\n",
       "      <th>0</th>\n",
       "      <td>real</td>\n",
       "      <td>1</td>\n",
       "      <td>1</td>\n",
       "      <td>1</td>\n",
       "      <td>1</td>\n",
       "      <td>1</td>\n",
       "      <td>1</td>\n",
       "      <td>6</td>\n",
       "      <td>1.0</td>\n",
       "    </tr>\n",
       "    <tr>\n",
       "      <th>1</th>\n",
       "      <td>fake</td>\n",
       "      <td>0</td>\n",
       "      <td>1</td>\n",
       "      <td>0</td>\n",
       "      <td>0</td>\n",
       "      <td>1</td>\n",
       "      <td>1</td>\n",
       "      <td>3</td>\n",
       "      <td>0.0</td>\n",
       "    </tr>\n",
       "    <tr>\n",
       "      <th>2</th>\n",
       "      <td>fake</td>\n",
       "      <td>0</td>\n",
       "      <td>0</td>\n",
       "      <td>0</td>\n",
       "      <td>0</td>\n",
       "      <td>1</td>\n",
       "      <td>0</td>\n",
       "      <td>1</td>\n",
       "      <td>0.0</td>\n",
       "    </tr>\n",
       "    <tr>\n",
       "      <th>3</th>\n",
       "      <td>real</td>\n",
       "      <td>1</td>\n",
       "      <td>1</td>\n",
       "      <td>1</td>\n",
       "      <td>1</td>\n",
       "      <td>1</td>\n",
       "      <td>1</td>\n",
       "      <td>6</td>\n",
       "      <td>1.0</td>\n",
       "    </tr>\n",
       "    <tr>\n",
       "      <th>4</th>\n",
       "      <td>real</td>\n",
       "      <td>1</td>\n",
       "      <td>1</td>\n",
       "      <td>1</td>\n",
       "      <td>1</td>\n",
       "      <td>0</td>\n",
       "      <td>1</td>\n",
       "      <td>5</td>\n",
       "      <td>1.0</td>\n",
       "    </tr>\n",
       "  </tbody>\n",
       "</table>\n",
       "</div>"
      ],
      "text/plain": [
       "  rotulo  KNN  NB  RF  XGB  DEEP  SVM  sum  vote\n",
       "0   real    1   1   1    1     1    1    6   1.0\n",
       "1   fake    0   1   0    0     1    1    3   0.0\n",
       "2   fake    0   0   0    0     1    0    1   0.0\n",
       "3   real    1   1   1    1     1    1    6   1.0\n",
       "4   real    1   1   1    1     0    1    5   1.0"
      ]
     },
     "execution_count": 8,
     "metadata": {},
     "output_type": "execute_result"
    }
   ],
   "source": [
    "#Numero de votos para ser real \n",
    "NUM=4 \n",
    "#NUM=3\n",
    "data.loc[data['sum'] >= NUM,'vote'] = 1\n",
    "data.loc[data['sum'] < NUM,'vote'] = 0\n",
    "data.head()"
   ]
  },
  {
   "cell_type": "code",
   "execution_count": 9,
   "metadata": {},
   "outputs": [
    {
     "name": "stdout",
     "output_type": "stream",
     "text": [
      "[[118  28]\n",
      " [  7 147]]\n",
      "              precision    recall  f1-score   support\n",
      "\n",
      "           0       0.94      0.81      0.87       146\n",
      "           1       0.84      0.95      0.89       154\n",
      "\n",
      "    accuracy                           0.88       300\n",
      "   macro avg       0.89      0.88      0.88       300\n",
      "weighted avg       0.89      0.88      0.88       300\n",
      "\n"
     ]
    }
   ],
   "source": [
    "from sklearn.preprocessing import LabelEncoder\n",
    "from sklearn.metrics import classification_report, confusion_matrix\n",
    "\n",
    "X = data['rotulo']\n",
    "\n",
    "#Transforma para 0 e 1\n",
    "encoder = LabelEncoder()\n",
    "encoder.fit(X)\n",
    "encoded_X = encoder.transform(X)\n",
    "\n",
    "y = data['vote']\n",
    "\n",
    "print(confusion_matrix(encoded_X, y))\n",
    "print(classification_report(encoded_X, y))"
   ]
  },
  {
   "cell_type": "code",
   "execution_count": 10,
   "metadata": {},
   "outputs": [
    {
     "data": {
      "image/png": "[encoded data removed]",
      "text/plain": [
       "<Figure size 432x288 with 2 Axes>"
      ]
     },
     "metadata": {},
     "output_type": "display_data"
    }
   ],
   "source": [
    "import matplotlib.pyplot as plt\n",
    "import seaborn as sns; sns.set()\n",
    "\n",
    "mat = confusion_matrix(encoded_X, y)\n",
    "sns.heatmap(mat, square=True, annot=True, fmt='d', cmap=\"Blues\", cbar=True,\n",
    "            xticklabels=['fake','real'],\n",
    "            yticklabels=['fake','real'])\n",
    "plt.xlabel('Valores Preditos')\n",
    "plt.ylabel('Valores Reais');"
   ]
  },
  {
   "cell_type": "code",
   "execution_count": 11,
   "metadata": {},
   "outputs": [
    {
     "name": "stdout",
     "output_type": "stream",
     "text": [
      "auc:  0.8813823163138232\n"
     ]
    },
    {
     "data": {
      "image/png": "[encoded data removed]",
      "text/plain": [
       "<Figure size 432x288 with 1 Axes>"
      ]
     },
     "metadata": {},
     "output_type": "display_data"
    }
   ],
   "source": [
    "from sklearn import metrics\n",
    "\n",
    "auc = metrics.roc_auc_score(encoded_X, y)\n",
    "print(\"auc: \",str(auc))\n",
    "fpr, tpr, _ = metrics.roc_curve(encoded_X, y)\n",
    "plt.plot(fpr,tpr,label=\"auc=\"+str(auc))\n",
    "plt.plot([0, 1], [0, 1],'r--')\n",
    "plt.xlim([0.0, 1.0])\n",
    "plt.ylim([0.0, 1.05])\n",
    "plt.xlabel('False Positive Rate')\n",
    "plt.ylabel('True Positive Rate')\n",
    "plt.legend(loc=4)\n",
    "plt.show()"
   ]
  },
  {
   "cell_type": "markdown",
   "metadata": {},
   "source": [
    "## Validação Cruzada"
   ]
  },
  {
   "cell_type": "code",
   "execution_count": 12,
   "metadata": {},
   "outputs": [
    {
     "name": "stdout",
     "output_type": "stream",
     "text": [
      "Acurácia: 0.8000% - AUC 0.8333% - F1 0.8000% \n",
      "Acurácia: 0.8000% - AUC 0.8000% - F1 0.8421% \n",
      "Acurácia: 0.9000% - AUC 0.9000% - F1 0.9091% \n",
      "Acurácia: 0.9000% - AUC 0.9019% - F1 0.9189% \n",
      "Acurácia: 0.9000% - AUC 0.9000% - F1 0.9091% \n",
      "Acurácia: 0.9000% - AUC 0.9062% - F1 0.9032% \n",
      "Acurácia: 0.9000% - AUC 0.9062% - F1 0.9032% \n",
      "Acurácia: 0.8667% - AUC 0.8667% - F1 0.8750% \n",
      "Acurácia: 0.9333% - AUC 0.9333% - F1 0.9375% \n",
      "Acurácia: 0.9333% - AUC 0.9333% - F1 0.9375% \n",
      ">> Acurácia 0.88% (+/- 0.05%)\n",
      ">> AUC 0.89% (+/- 0.04%)\n",
      ">> F1 0.89% (+/- 0.04%)\n"
     ]
    }
   ],
   "source": [
    "from sklearn.model_selection import StratifiedKFold, KFold \n",
    "from sklearn.metrics import roc_curve\n",
    "from sklearn.metrics import auc, f1_score\n",
    "from sklearn.preprocessing import StandardScaler\n",
    "\n",
    "# fix random seed for reproducibility\n",
    "seed = 109\n",
    "numpy.random.seed(seed)\n",
    "\n",
    "X = encoded_X\n",
    "Y = y\n",
    "\n",
    "kfold = StratifiedKFold(n_splits=10, shuffle=True, random_state=seed)\n",
    "\n",
    "cvscores = []\n",
    "cvaucs = []\n",
    "f1s = []\n",
    "cvfprs0 = []\n",
    "cvfprs1 = []\n",
    "cvfprs2 = []\n",
    "cvtprs0 = []\n",
    "cvtprs1 = []\n",
    "cvtprs2 = []\n",
    "for train, test in kfold.split(X, Y):   \n",
    "    rept = classification_report(X[test], Y[test], output_dict=True)\n",
    "    #print(\"%s: %.4f%%\" % (model.metrics_names[1], scores[1]))\n",
    "    cvscores.append(rept['accuracy'])\n",
    "    #Calculo do AUC\n",
    "    fpr_keras, tpr_keras, thresholds_keras = roc_curve(X[test], Y[test])      \n",
    "    auc_keras = auc(fpr_keras, tpr_keras)\n",
    "    #print(\"auc_keras %.4f%%\" % (auc_keras))\n",
    "    cvaucs.append(auc_keras)\n",
    "    \n",
    "    cvfprs0.append(fpr_keras[0])\n",
    "    cvfprs1.append(fpr_keras[1])\n",
    "    cvfprs2.append(fpr_keras[2])\n",
    "    \n",
    "    cvtprs0.append(tpr_keras[0])\n",
    "    cvtprs1.append(tpr_keras[1])\n",
    "    cvtprs2.append(tpr_keras[2])\n",
    "    \n",
    "    #F1-score\n",
    "    f1 = f1_score(X[test], Y[test], average=\"binary\")\n",
    "    f1s.append(f1)\n",
    "    print(\"Acurácia: %.4f%% - AUC %.4f%% - F1 %.4f%% \" % (rept['accuracy'], auc_keras, f1 ))\n",
    "    \n",
    "print(\">> Acurácia %.2f%% (+/- %.2f%%)\" % (numpy.mean(cvscores), numpy.std(cvscores)))\n",
    "print(\">> AUC %.2f%% (+/- %.2f%%)\" % (numpy.mean(cvaucs), numpy.std(cvaucs)))\n",
    "print(\">> F1 %.2f%% (+/- %.2f%%)\" % (numpy.mean(f1s), numpy.std(f1s)))"
   ]
  },
  {
   "cell_type": "markdown",
   "metadata": {},
   "source": [
    "## Curva ROC Kfold"
   ]
  },
  {
   "cell_type": "code",
   "execution_count": 13,
   "metadata": {},
   "outputs": [
    {
     "name": "stdout",
     "output_type": "stream",
     "text": [
      "auc:  0.8881080542264753\n"
     ]
    },
    {
     "data": {
      "image/png": "[encoded data removed]",
      "text/plain": [
       "<Figure size 432x288 with 1 Axes>"
      ]
     },
     "metadata": {},
     "output_type": "display_data"
    }
   ],
   "source": [
    "from sklearn import metrics\n",
    "\n",
    "auc = numpy.mean(cvaucs)\n",
    "\n",
    "print(\"auc: \",str(auc))\n",
    "\n",
    "fpr = [numpy.mean(cvfprs0), numpy.mean(cvfprs1), numpy.mean(cvfprs2)]\n",
    "tpr = [numpy.mean(cvtprs0), numpy.mean(cvtprs1), numpy.mean(cvtprs2)]\n",
    "\n",
    "plt.plot(fpr,tpr,label=\"AUC= \"+str(auc))\n",
    "plt.plot([0, 1], [0, 1],'r--')\n",
    "plt.xlim([0.0, 1.0])\n",
    "plt.ylim([0.0, 1.05])\n",
    "plt.xlabel('False Positive Rate')\n",
    "plt.ylabel('True Positive Rate')\n",
    "plt.legend(loc=4)\n",
    "plt.show()"
   ]
  },
  {
   "cell_type": "code",
   "execution_count": null,
   "metadata": {},
   "outputs": [],
   "source": []
  }
 ],
 "metadata": {
  "kernelspec": {
   "display_name": "Python 3",
   "language": "python",
   "name": "python3"
  },
  "language_info": {
   "codemirror_mode": {
    "name": "ipython",
    "version": 3
   },
   "file_extension": ".py",
   "mimetype": "text/x-python",
   "name": "python",
   "nbconvert_exporter": "python",
   "pygments_lexer": "ipython3",
   "version": "3.7.0"
  }
 },
 "nbformat": 4,
 "nbformat_minor": 4
}
