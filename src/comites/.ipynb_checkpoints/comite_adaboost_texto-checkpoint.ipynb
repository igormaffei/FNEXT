{
 "cells": [
  {
   "cell_type": "markdown",
   "id": "0aa99592",
   "metadata": {},
   "source": [
    "# Comitê AdaBoost"
   ]
  },
  {
   "cell_type": "code",
   "execution_count": 1,
   "id": "fbf653e9",
   "metadata": {},
   "outputs": [],
   "source": [
    "import pandas as pd\n",
    "import numpy as np\n",
    "import matplotlib.pyplot as plt\n",
    "from sklearn.ensemble import AdaBoostClassifier\n",
    "from sklearn.tree import DecisionTreeClassifier\n",
    "%matplotlib inline"
   ]
  },
  {
   "cell_type": "code",
   "execution_count": 4,
   "id": "4f617dcc",
   "metadata": {},
   "outputs": [
    {
     "data": {
      "text/html": [
       "<div>\n",
       "<style scoped>\n",
       "    .dataframe tbody tr th:only-of-type {\n",
       "        vertical-align: middle;\n",
       "    }\n",
       "\n",
       "    .dataframe tbody tr th {\n",
       "        vertical-align: top;\n",
       "    }\n",
       "\n",
       "    .dataframe thead th {\n",
       "        text-align: right;\n",
       "    }\n",
       "</style>\n",
       "<table border=\"1\" class=\"dataframe\">\n",
       "  <thead>\n",
       "    <tr style=\"text-align: right;\">\n",
       "      <th></th>\n",
       "      <th>id</th>\n",
       "      <th>rotulo</th>\n",
       "      <th>ADA</th>\n",
       "      <th>RF</th>\n",
       "      <th>GRD</th>\n",
       "      <th>KNN</th>\n",
       "      <th>NB</th>\n",
       "      <th>SVM</th>\n",
       "      <th>RL</th>\n",
       "    </tr>\n",
       "  </thead>\n",
       "  <tbody>\n",
       "    <tr>\n",
       "      <th>0</th>\n",
       "      <td>53</td>\n",
       "      <td>FALSO</td>\n",
       "      <td>0</td>\n",
       "      <td>0</td>\n",
       "      <td>0</td>\n",
       "      <td>0</td>\n",
       "      <td>0</td>\n",
       "      <td>1</td>\n",
       "      <td>1</td>\n",
       "    </tr>\n",
       "    <tr>\n",
       "      <th>1</th>\n",
       "      <td>1136</td>\n",
       "      <td>VERDADE</td>\n",
       "      <td>1</td>\n",
       "      <td>1</td>\n",
       "      <td>0</td>\n",
       "      <td>0</td>\n",
       "      <td>0</td>\n",
       "      <td>0</td>\n",
       "      <td>0</td>\n",
       "    </tr>\n",
       "    <tr>\n",
       "      <th>2</th>\n",
       "      <td>695</td>\n",
       "      <td>FALSO</td>\n",
       "      <td>0</td>\n",
       "      <td>0</td>\n",
       "      <td>0</td>\n",
       "      <td>1</td>\n",
       "      <td>0</td>\n",
       "      <td>0</td>\n",
       "      <td>0</td>\n",
       "    </tr>\n",
       "    <tr>\n",
       "      <th>3</th>\n",
       "      <td>3312</td>\n",
       "      <td>VERDADE</td>\n",
       "      <td>1</td>\n",
       "      <td>1</td>\n",
       "      <td>1</td>\n",
       "      <td>1</td>\n",
       "      <td>1</td>\n",
       "      <td>1</td>\n",
       "      <td>1</td>\n",
       "    </tr>\n",
       "    <tr>\n",
       "      <th>4</th>\n",
       "      <td>1314</td>\n",
       "      <td>VERDADE</td>\n",
       "      <td>1</td>\n",
       "      <td>1</td>\n",
       "      <td>1</td>\n",
       "      <td>1</td>\n",
       "      <td>1</td>\n",
       "      <td>1</td>\n",
       "      <td>1</td>\n",
       "    </tr>\n",
       "  </tbody>\n",
       "</table>\n",
       "</div>"
      ],
      "text/plain": [
       "     id   rotulo  ADA  RF  GRD  KNN  NB  SVM  RL\n",
       "0    53    FALSO    0   0    0    0   0    1   1\n",
       "1  1136  VERDADE    1   1    0    0   0    0   0\n",
       "2   695    FALSO    0   0    0    1   0    0   0\n",
       "3  3312  VERDADE    1   1    1    1   1    1   1\n",
       "4  1314  VERDADE    1   1    1    1   1    1   1"
      ]
     },
     "execution_count": 4,
     "metadata": {},
     "output_type": "execute_result"
    }
   ],
   "source": [
    "#dftexto = pd.read_csv(\"../datasets/ds_comite_texto.csv\")\n",
    "data = pd.read_csv(\"../datasets2/ds_comite_texto.csv\")\n",
    "data.head()"
   ]
  },
  {
   "cell_type": "code",
   "execution_count": 5,
   "id": "85c71199",
   "metadata": {},
   "outputs": [],
   "source": [
    "X = data.drop('id', axis=1)\n",
    "X = X.drop('rotulo', axis=1)\n",
    "y = data['rotulo']"
   ]
  },
  {
   "cell_type": "code",
   "execution_count": 6,
   "id": "10a3f5e7",
   "metadata": {},
   "outputs": [
    {
     "name": "stdout",
     "output_type": "stream",
     "text": [
      "Original dataset: Counter({'VERDADE': 613, 'FALSO': 379})\n",
      "Resampled dataset: Counter({'VERDADE': 613, 'FALSO': 379})\n"
     ]
    }
   ],
   "source": [
    "from sklearn.model_selection import train_test_split\n",
    "from imblearn.over_sampling import SMOTE\n",
    "from imblearn.under_sampling import RandomUnderSampler\n",
    "from imblearn.pipeline import Pipeline\n",
    "from collections import Counter\n",
    "\n",
    "### SMOTE dataset pq ele é desbalanceado\n",
    "over = SMOTE(sampling_strategy=1)\n",
    "under = RandomUnderSampler(sampling_strategy=1)\n",
    "steps = [('o', over), ('u', under)]\n",
    "pipeline = Pipeline(steps=steps)\n",
    "\n",
    "print('Original dataset:', Counter(y))\n",
    "\n",
    "#X, y = pipeline.fit_resample(X, y)\n",
    "\n",
    "print('Resampled dataset:', Counter(y))\n",
    "\n",
    "X_train, X_test, y_train, y_test = train_test_split(X, y, test_size=0.3,random_state=109)\n",
    "\n",
    "model = AdaBoostClassifier(DecisionTreeClassifier(max_depth=5), n_estimators=100)\n",
    "\n",
    "model.fit(X_train, y_train)\n",
    "\n",
    "y_pred = model.predict(X_test)"
   ]
  },
  {
   "cell_type": "code",
   "execution_count": 7,
   "id": "965a6ada",
   "metadata": {},
   "outputs": [
    {
     "name": "stdout",
     "output_type": "stream",
     "text": [
      "[[119   4]\n",
      " [  3 172]]\n",
      "              precision    recall  f1-score   support\n",
      "\n",
      "       FALSO       0.98      0.97      0.97       123\n",
      "     VERDADE       0.98      0.98      0.98       175\n",
      "\n",
      "    accuracy                           0.98       298\n",
      "   macro avg       0.98      0.98      0.98       298\n",
      "weighted avg       0.98      0.98      0.98       298\n",
      "\n"
     ]
    }
   ],
   "source": [
    "from sklearn.metrics import classification_report, confusion_matrix\n",
    "\n",
    "print(confusion_matrix(y_test,y_pred))\n",
    "print(classification_report(y_test, y_pred))"
   ]
  },
  {
   "cell_type": "code",
   "execution_count": 8,
   "id": "793a0216",
   "metadata": {},
   "outputs": [
    {
     "data": {
      "image/png": "[encoded data removed]",
      "text/plain": [
       "<Figure size 432x288 with 2 Axes>"
      ]
     },
     "metadata": {},
     "output_type": "display_data"
    }
   ],
   "source": [
    "# use seaborn plotting defaults\n",
    "import seaborn as sns; sns.set()\n",
    "\n",
    "mat = confusion_matrix(y_test,y_pred)\n",
    "sns.heatmap(mat, square=True, annot=True, fmt='d', cmap=\"Blues\", cbar=True,\n",
    "            xticklabels=['fake','real'],\n",
    "            yticklabels=['fake','real'])\n",
    "plt.xlabel('true label')\n",
    "plt.ylabel('predicted label');"
   ]
  },
  {
   "cell_type": "markdown",
   "id": "d59c02ae",
   "metadata": {},
   "source": [
    "## Validação Cruzada"
   ]
  },
  {
   "cell_type": "code",
   "execution_count": 9,
   "id": "c20c55eb",
   "metadata": {},
   "outputs": [
    {
     "name": "stdout",
     "output_type": "stream",
     "text": [
      "Accuracy: 0.97 (+/- 0.01) \n",
      "AUC: 0.99 (+/- 0.01) \n",
      "F1: 0.98 (+/- 0.01) \n"
     ]
    }
   ],
   "source": [
    "from sklearn.model_selection import  StratifiedKFold, KFold, cross_val_score  \n",
    "from sklearn.preprocessing import LabelEncoder\n",
    "from sklearn.metrics import accuracy_score\n",
    "from sklearn.metrics import make_scorer\n",
    "\n",
    "# dfcv = pd.read_csv(\"datasets/ds_full_validacao_pt.csv\")\n",
    "\n",
    "# Xcv = dfcv.drop('rotulo', axis=1)\n",
    "# Ycv = dfcv['rotulo']\n",
    "\n",
    "Xcv = X\n",
    "Ycv = y\n",
    "\n",
    "# print('Original dataset:', Counter(Ycv))\n",
    "# Xcv, Ycv = pipeline.fit_resample(Xcv, Ycv)\n",
    "# print('Resampled dataset:', Counter(Ycv))\n",
    "\n",
    "\n",
    "k_folds = StratifiedKFold(n_splits=10, random_state=109, shuffle=True)\n",
    "\n",
    "scores = cross_val_score(model, Xcv, Ycv, cv=k_folds, scoring='accuracy',n_jobs=-1, verbose=False)\n",
    "print(\"Accuracy: %0.2f (+/- %0.2f) \"% (scores.mean(), scores.std()))\n",
    "\n",
    "auc = cross_val_score(model, Xcv, Ycv,  cv=k_folds, scoring = 'roc_auc')\n",
    "print(\"AUC: %0.2f (+/- %0.2f) \"% (auc.mean(), auc.std()))\n",
    "\n",
    "#Transforma para 0 e 1\n",
    "encoder = LabelEncoder()\n",
    "encoder.fit(Ycv)\n",
    "encoded_Y = encoder.transform(Ycv)\n",
    "\n",
    "f1 = cross_val_score(model, Xcv, encoded_Y, cv=k_folds, scoring='f1', n_jobs=-1, verbose=False)\n",
    "print(\"F1: %0.2f (+/- %0.2f) \"% (f1.mean(), f1.std()))"
   ]
  },
  {
   "cell_type": "markdown",
   "id": "528f7e9e",
   "metadata": {},
   "source": [
    "## Matriz de Confusão K-Fold"
   ]
  },
  {
   "cell_type": "code",
   "execution_count": 10,
   "id": "40821276",
   "metadata": {},
   "outputs": [
    {
     "name": "stdout",
     "output_type": "stream",
     "text": [
      "[[362  17]\n",
      " [ 10 603]]\n",
      "              precision    recall  f1-score   support\n",
      "\n",
      "       FALSO       0.97      0.96      0.96       379\n",
      "     VERDADE       0.97      0.98      0.98       613\n",
      "\n",
      "    accuracy                           0.97       992\n",
      "   macro avg       0.97      0.97      0.97       992\n",
      "weighted avg       0.97      0.97      0.97       992\n",
      "\n"
     ]
    },
    {
     "data": {
      "image/png": "[encoded data removed]",
      "text/plain": [
       "<Figure size 432x288 with 2 Axes>"
      ]
     },
     "metadata": {},
     "output_type": "display_data"
    }
   ],
   "source": [
    "from sklearn.model_selection import cross_val_predict\n",
    "\n",
    "y_pred_cv = cross_val_predict(model, Xcv, Ycv, cv=k_folds)\n",
    "mat_cv = confusion_matrix(Ycv, y_pred_cv)\n",
    "\n",
    "print(mat_cv)\n",
    "print(classification_report(Ycv, y_pred_cv))\n",
    "\n",
    "sns.heatmap(mat_cv, square=True, annot=True, fmt='d', cmap=\"Blues\", cbar=True,\n",
    "            xticklabels=['fake','real'],\n",
    "            yticklabels=['fake','real'])\n",
    "plt.xlabel('Valores Preditos')\n",
    "plt.ylabel('Valores Reais');"
   ]
  },
  {
   "cell_type": "markdown",
   "id": "fd713fcf",
   "metadata": {},
   "source": [
    "## Curva ROC K-Fold"
   ]
  },
  {
   "cell_type": "code",
   "execution_count": null,
   "id": "13c265ea",
   "metadata": {},
   "outputs": [],
   "source": [
    "from sklearn.metrics import auc\n",
    "from sklearn.metrics import plot_roc_curve\n",
    "from sklearn.model_selection import StratifiedKFold\n",
    "from sklearn.preprocessing import MinMaxScaler\n",
    "from sklearn.preprocessing import LabelEncoder\n",
    "\n",
    "#Trabalha o Dataset Para poder ser printado\n",
    "Xcv = X\n",
    "Ycv = y\n",
    "scaler = MinMaxScaler().fit(Xcv)\n",
    "Xcv = scaler.transform(Xcv)\n",
    "\n",
    "encoder = LabelEncoder()\n",
    "encoder.fit(Ycv)\n",
    "Ycv = encoder.transform(Ycv)\n",
    "\n",
    "tprs = []\n",
    "aucs = []\n",
    "mean_fpr = np.linspace(0, 1, 100)\n",
    "\n",
    "fig, ax = plt.subplots(figsize=(10,8))\n",
    "for i,(train, test) in enumerate(k_folds.split(Xcv, Ycv)):\n",
    "    model.fit(Xcv[train], Ycv[train])\n",
    "    viz = plot_roc_curve(model, Xcv[test], Ycv[test],\n",
    "                         name='ROC fold {}'.format(i),\n",
    "                         alpha=0.3, lw=1, ax=ax)\n",
    "    interp_tpr = np.interp(mean_fpr, viz.fpr, viz.tpr)\n",
    "    interp_tpr[0] = 0.0\n",
    "    tprs.append(interp_tpr)\n",
    "    aucs.append(viz.roc_auc)\n",
    "\n",
    "ax.plot([0, 1], [0, 1], linestyle='--', lw=2, color='r',\n",
    "        label='Sorte', alpha=.8)\n",
    "\n",
    "mean_tpr = np.mean(tprs, axis=0)\n",
    "mean_tpr[-1] = 1.0\n",
    "mean_auc = auc(mean_fpr, mean_tpr)\n",
    "std_auc = np.std(aucs)\n",
    "ax.plot(mean_fpr, mean_tpr, color='b',\n",
    "       label=r'Média ROC (AUC = %0.2f $\\pm$ %0.2f)' % (mean_auc, std_auc),\n",
    "       lw=3, alpha=.8)\n",
    "\n",
    "std_tpr = np.std(tprs, axis=0)\n",
    "tprs_upper = np.minimum(mean_tpr + std_tpr, 1)\n",
    "tprs_lower = np.maximum(mean_tpr - std_tpr, 0)\n",
    "ax.fill_between(mean_fpr, tprs_lower, tprs_upper, color='gray', alpha=.2,\n",
    "                label=r'$\\pm$ 1 desvio padrão (std)')\n",
    "\n",
    "ax.set(xlim=[-0.05, 1.05], ylim=[-0.05, 1.05],\n",
    "       title=\"Curva ROC\")\n",
    "ax.legend(loc=0)\n",
    "plt.xlabel('Taxa de Falsos Positivos')\n",
    "plt.ylabel('Taxa de Verdadeiros Positivos')\n",
    "plt.show()"
   ]
  },
  {
   "cell_type": "code",
   "execution_count": null,
   "id": "e934a4d6",
   "metadata": {},
   "outputs": [],
   "source": []
  }
 ],
 "metadata": {
  "kernelspec": {
   "display_name": "Dissertação",
   "language": "python",
   "name": "dissertacao"
  },
  "language_info": {
   "codemirror_mode": {
    "name": "ipython",
    "version": 3
   },
   "file_extension": ".py",
   "mimetype": "text/x-python",
   "name": "python",
   "nbconvert_exporter": "python",
   "pygments_lexer": "ipython3",
   "version": "3.7.0"
  }
 },
 "nbformat": 4,
 "nbformat_minor": 5
}
