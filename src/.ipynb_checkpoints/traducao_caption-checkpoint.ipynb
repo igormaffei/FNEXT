{
 "cells": [
  {
   "cell_type": "code",
   "execution_count": 4,
   "id": "567eedf4",
   "metadata": {},
   "outputs": [],
   "source": [
    "import json\n",
    "import requests\n",
    "import base64\n",
    "import pandas as pd"
   ]
  },
  {
   "cell_type": "code",
   "execution_count": 5,
   "id": "82608c3f",
   "metadata": {},
   "outputs": [
    {
     "name": "stdout",
     "output_type": "stream",
     "text": [
      "Um homem está segurando um celular perto do ouvido\n"
     ]
    }
   ],
   "source": [
    "def translate(text):\n",
    "    url = 'https://api.gotit.ai/Translation/v1.1/Translate'\n",
    "    data = {\"T\":text,\"SL\":\"EnUs\",\"TL\":\"PtBr\"}\n",
    "    data_json = json.dumps(data)\n",
    "    userAndPass = base64.b64encode(b\"2085-AvvZCrCh:zcAy/F6d3W24XYAo+Q/lvnqCq/4Ixw0vIv8rhukv\").decode(\"ascii\")\n",
    "    headers = {'Content-type': 'application/json', \"Authorization\": \"Basic %s\" %  userAndPass}\n",
    "    response = requests.post(url, data=data_json, headers=headers)\n",
    "    return response.json()['result']\n",
    "    \n",
    "print(translate(\"a man is holding a cell phone to his ear.\"))"
   ]
  },
  {
   "cell_type": "markdown",
   "id": "ddf657d7",
   "metadata": {},
   "source": [
    "## Lendo DataSet"
   ]
  },
  {
   "cell_type": "code",
   "execution_count": 6,
   "id": "0d89a559",
   "metadata": {},
   "outputs": [
    {
     "data": {
      "text/html": [
       "<div>\n",
       "<style scoped>\n",
       "    .dataframe tbody tr th:only-of-type {\n",
       "        vertical-align: middle;\n",
       "    }\n",
       "\n",
       "    .dataframe tbody tr th {\n",
       "        vertical-align: top;\n",
       "    }\n",
       "\n",
       "    .dataframe thead th {\n",
       "        text-align: right;\n",
       "    }\n",
       "</style>\n",
       "<table border=\"1\" class=\"dataframe\">\n",
       "  <thead>\n",
       "    <tr style=\"text-align: right;\">\n",
       "      <th></th>\n",
       "      <th>id</th>\n",
       "      <th>rotulo</th>\n",
       "      <th>texto</th>\n",
       "    </tr>\n",
       "  </thead>\n",
       "  <tbody>\n",
       "    <tr>\n",
       "      <th>0</th>\n",
       "      <td>53</td>\n",
       "      <td>FALSO</td>\n",
       "      <td>a bunch of different types of fruit on a table...</td>\n",
       "    </tr>\n",
       "    <tr>\n",
       "      <th>1</th>\n",
       "      <td>1136</td>\n",
       "      <td>VERDADE</td>\n",
       "      <td>a bunch of items that are on a table . a bunch...</td>\n",
       "    </tr>\n",
       "    <tr>\n",
       "      <th>2</th>\n",
       "      <td>695</td>\n",
       "      <td>FALSO</td>\n",
       "      <td>a birthday cake with a train on it a birthday ...</td>\n",
       "    </tr>\n",
       "    <tr>\n",
       "      <th>3</th>\n",
       "      <td>3312</td>\n",
       "      <td>VERDADE</td>\n",
       "      <td>a white dog laying on top of a bed . a white d...</td>\n",
       "    </tr>\n",
       "    <tr>\n",
       "      <th>4</th>\n",
       "      <td>1314</td>\n",
       "      <td>VERDADE</td>\n",
       "      <td>a close up of a cake with a train on it a clos...</td>\n",
       "    </tr>\n",
       "  </tbody>\n",
       "</table>\n",
       "</div>"
      ],
      "text/plain": [
       "     id   rotulo                                              texto\n",
       "0    53    FALSO  a bunch of different types of fruit on a table...\n",
       "1  1136  VERDADE  a bunch of items that are on a table . a bunch...\n",
       "2   695    FALSO  a birthday cake with a train on it a birthday ...\n",
       "3  3312  VERDADE  a white dog laying on top of a bed . a white d...\n",
       "4  1314  VERDADE  a close up of a cake with a train on it a clos..."
      ]
     },
     "execution_count": 6,
     "metadata": {},
     "output_type": "execute_result"
    }
   ],
   "source": [
    "#df = pd.read_csv(\"datasets/dataset_caption.csv\")\n",
    "df = pd.read_csv(\"datasets2/dataset_caption.csv\")\n",
    "df.head()"
   ]
  },
  {
   "cell_type": "markdown",
   "id": "789f2026",
   "metadata": {},
   "source": [
    "## Processa tradução para o Português"
   ]
  },
  {
   "cell_type": "code",
   "execution_count": null,
   "id": "700950de",
   "metadata": {},
   "outputs": [],
   "source": [
    "df['texto_pt'] = \"\"\n",
    "for (index, row) in df.iterrows():\n",
    "    df.at[index,'texto_pt'] = translate(row['texto'])\n",
    "\n",
    "df.head()"
   ]
  },
  {
   "cell_type": "code",
   "execution_count": null,
   "id": "02efa830",
   "metadata": {},
   "outputs": [],
   "source": [
    "#df.to_csv('datasets/dataset_caption_pt.csv', index=False)\n",
    "df.to_csv('datasets2/dataset_caption_pt.csv', index=False)"
   ]
  },
  {
   "cell_type": "code",
   "execution_count": null,
   "id": "b337e985",
   "metadata": {},
   "outputs": [],
   "source": []
  }
 ],
 "metadata": {
  "kernelspec": {
   "display_name": "Dissertação",
   "language": "python",
   "name": "dissertacao"
  },
  "language_info": {
   "codemirror_mode": {
    "name": "ipython",
    "version": 3
   },
   "file_extension": ".py",
   "mimetype": "text/x-python",
   "name": "python",
   "nbconvert_exporter": "python",
   "pygments_lexer": "ipython3",
   "version": "3.7.0"
  }
 },
 "nbformat": 4,
 "nbformat_minor": 5
}
