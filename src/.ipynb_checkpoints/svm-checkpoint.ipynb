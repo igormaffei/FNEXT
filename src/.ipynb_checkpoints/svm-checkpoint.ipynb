{
 "cells": [
  {
   "cell_type": "code",
   "execution_count": 1,
   "metadata": {},
   "outputs": [],
   "source": [
    "import pandas as pd\n",
    "import numpy as np\n",
    "import matplotlib.pyplot as plt\n",
    "%matplotlib inline"
   ]
  },
  {
   "cell_type": "code",
   "execution_count": 2,
   "metadata": {},
   "outputs": [
    {
     "data": {
      "text/html": [
       "<div>\n",
       "<style scoped>\n",
       "    .dataframe tbody tr th:only-of-type {\n",
       "        vertical-align: middle;\n",
       "    }\n",
       "\n",
       "    .dataframe tbody tr th {\n",
       "        vertical-align: top;\n",
       "    }\n",
       "\n",
       "    .dataframe thead th {\n",
       "        text-align: right;\n",
       "    }\n",
       "</style>\n",
       "<table border=\"1\" class=\"dataframe\">\n",
       "  <thead>\n",
       "    <tr style=\"text-align: right;\">\n",
       "      <th></th>\n",
       "      <th>id</th>\n",
       "      <th>rotulo</th>\n",
       "      <th>MAIUSCULAS</th>\n",
       "      <th>EXCLAMA</th>\n",
       "      <th>ASPAS</th>\n",
       "      <th>POL_ABSOLUTO</th>\n",
       "      <th>funct</th>\n",
       "      <th>pronoun</th>\n",
       "      <th>ppron</th>\n",
       "      <th>i</th>\n",
       "      <th>...</th>\n",
       "      <th>negate</th>\n",
       "      <th>verb</th>\n",
       "      <th>adj</th>\n",
       "      <th>interrog</th>\n",
       "      <th>affect</th>\n",
       "      <th>posemo</th>\n",
       "      <th>negemo</th>\n",
       "      <th>anx</th>\n",
       "      <th>anger</th>\n",
       "      <th>sad</th>\n",
       "    </tr>\n",
       "  </thead>\n",
       "  <tbody>\n",
       "    <tr>\n",
       "      <th>0</th>\n",
       "      <td>626</td>\n",
       "      <td>FALSO</td>\n",
       "      <td>0.060454</td>\n",
       "      <td>0.0</td>\n",
       "      <td>0.0</td>\n",
       "      <td>0.500</td>\n",
       "      <td>0.590161</td>\n",
       "      <td>0.549830</td>\n",
       "      <td>0.218132</td>\n",
       "      <td>0.0</td>\n",
       "      <td>...</td>\n",
       "      <td>0.0</td>\n",
       "      <td>0.706203</td>\n",
       "      <td>0.215951</td>\n",
       "      <td>0.000000</td>\n",
       "      <td>0.166521</td>\n",
       "      <td>0.000000</td>\n",
       "      <td>0.301636</td>\n",
       "      <td>0.0</td>\n",
       "      <td>0.680982</td>\n",
       "      <td>0.0</td>\n",
       "    </tr>\n",
       "    <tr>\n",
       "      <th>1</th>\n",
       "      <td>972</td>\n",
       "      <td>FALSO</td>\n",
       "      <td>0.049928</td>\n",
       "      <td>0.0</td>\n",
       "      <td>0.0</td>\n",
       "      <td>1.000</td>\n",
       "      <td>0.426850</td>\n",
       "      <td>0.181470</td>\n",
       "      <td>0.079012</td>\n",
       "      <td>0.0</td>\n",
       "      <td>...</td>\n",
       "      <td>0.0</td>\n",
       "      <td>0.511605</td>\n",
       "      <td>0.000000</td>\n",
       "      <td>0.000000</td>\n",
       "      <td>0.120635</td>\n",
       "      <td>0.120635</td>\n",
       "      <td>0.000000</td>\n",
       "      <td>0.0</td>\n",
       "      <td>0.000000</td>\n",
       "      <td>0.0</td>\n",
       "    </tr>\n",
       "    <tr>\n",
       "      <th>2</th>\n",
       "      <td>42</td>\n",
       "      <td>FALSO</td>\n",
       "      <td>0.019361</td>\n",
       "      <td>0.0</td>\n",
       "      <td>0.0</td>\n",
       "      <td>0.750</td>\n",
       "      <td>0.369968</td>\n",
       "      <td>0.381457</td>\n",
       "      <td>0.172600</td>\n",
       "      <td>0.0</td>\n",
       "      <td>...</td>\n",
       "      <td>0.0</td>\n",
       "      <td>0.558792</td>\n",
       "      <td>0.683495</td>\n",
       "      <td>0.161408</td>\n",
       "      <td>0.131761</td>\n",
       "      <td>0.131761</td>\n",
       "      <td>0.000000</td>\n",
       "      <td>0.0</td>\n",
       "      <td>0.000000</td>\n",
       "      <td>0.0</td>\n",
       "    </tr>\n",
       "    <tr>\n",
       "      <th>3</th>\n",
       "      <td>1043</td>\n",
       "      <td>FALSO</td>\n",
       "      <td>0.040752</td>\n",
       "      <td>0.0</td>\n",
       "      <td>0.0</td>\n",
       "      <td>0.500</td>\n",
       "      <td>0.783976</td>\n",
       "      <td>0.817388</td>\n",
       "      <td>0.116195</td>\n",
       "      <td>0.0</td>\n",
       "      <td>...</td>\n",
       "      <td>0.0</td>\n",
       "      <td>0.000000</td>\n",
       "      <td>0.230065</td>\n",
       "      <td>0.000000</td>\n",
       "      <td>0.177404</td>\n",
       "      <td>0.177404</td>\n",
       "      <td>0.000000</td>\n",
       "      <td>0.0</td>\n",
       "      <td>0.000000</td>\n",
       "      <td>0.0</td>\n",
       "    </tr>\n",
       "    <tr>\n",
       "      <th>4</th>\n",
       "      <td>831</td>\n",
       "      <td>FALSO</td>\n",
       "      <td>0.076806</td>\n",
       "      <td>0.0</td>\n",
       "      <td>0.0</td>\n",
       "      <td>0.875</td>\n",
       "      <td>0.320421</td>\n",
       "      <td>0.418615</td>\n",
       "      <td>0.243531</td>\n",
       "      <td>0.0</td>\n",
       "      <td>...</td>\n",
       "      <td>0.0</td>\n",
       "      <td>0.131405</td>\n",
       "      <td>0.000000</td>\n",
       "      <td>0.000000</td>\n",
       "      <td>0.123940</td>\n",
       "      <td>0.000000</td>\n",
       "      <td>0.224505</td>\n",
       "      <td>0.0</td>\n",
       "      <td>0.000000</td>\n",
       "      <td>0.0</td>\n",
       "    </tr>\n",
       "  </tbody>\n",
       "</table>\n",
       "<p>5 rows × 30 columns</p>\n",
       "</div>"
      ],
      "text/plain": [
       "     id rotulo  MAIUSCULAS  EXCLAMA  ASPAS  POL_ABSOLUTO     funct   pronoun  \\\n",
       "0   626  FALSO    0.060454      0.0    0.0         0.500  0.590161  0.549830   \n",
       "1   972  FALSO    0.049928      0.0    0.0         1.000  0.426850  0.181470   \n",
       "2    42  FALSO    0.019361      0.0    0.0         0.750  0.369968  0.381457   \n",
       "3  1043  FALSO    0.040752      0.0    0.0         0.500  0.783976  0.817388   \n",
       "4   831  FALSO    0.076806      0.0    0.0         0.875  0.320421  0.418615   \n",
       "\n",
       "      ppron    i  ...  negate      verb       adj  interrog    affect  \\\n",
       "0  0.218132  0.0  ...     0.0  0.706203  0.215951  0.000000  0.166521   \n",
       "1  0.079012  0.0  ...     0.0  0.511605  0.000000  0.000000  0.120635   \n",
       "2  0.172600  0.0  ...     0.0  0.558792  0.683495  0.161408  0.131761   \n",
       "3  0.116195  0.0  ...     0.0  0.000000  0.230065  0.000000  0.177404   \n",
       "4  0.243531  0.0  ...     0.0  0.131405  0.000000  0.000000  0.123940   \n",
       "\n",
       "     posemo    negemo  anx     anger  sad  \n",
       "0  0.000000  0.301636  0.0  0.680982  0.0  \n",
       "1  0.120635  0.000000  0.0  0.000000  0.0  \n",
       "2  0.131761  0.000000  0.0  0.000000  0.0  \n",
       "3  0.177404  0.000000  0.0  0.000000  0.0  \n",
       "4  0.000000  0.224505  0.0  0.000000  0.0  \n",
       "\n",
       "[5 rows x 30 columns]"
      ]
     },
     "execution_count": 2,
     "metadata": {},
     "output_type": "execute_result"
    }
   ],
   "source": [
    "#data = pd.read_csv(\"datasets/ds_texto.csv\")\n",
    "#data = pd.read_csv(\"datasets/ds_full.csv\")\n",
    "#data = pd.read_csv(\"datasets2/ds_texto.csv\")\n",
    "#@data = pd.read_csv(\"datasets2/ds_full.csv\")\n",
    "#data = pd.read_csv(\"datasets2/ds_full_em.csv\")\n",
    "#data = pd.read_csv(\"datasets/ds_full_em.csv\")\n",
    "#data = pd.read_csv(\"datasets/ds_texto_concat.csv\")\n",
    "data = pd.read_csv(\"datasets2/ds_texto_concat.csv\")\n",
    "\n",
    "data.head()"
   ]
  },
  {
   "cell_type": "code",
   "execution_count": 3,
   "metadata": {},
   "outputs": [],
   "source": [
    "X = data.drop('id', axis=1)\n",
    "X = X.drop('rotulo', axis=1)\n",
    "y = data['rotulo']"
   ]
  },
  {
   "cell_type": "markdown",
   "metadata": {},
   "source": [
    "## Prepara o Conjunto para Teste"
   ]
  },
  {
   "cell_type": "code",
   "execution_count": 4,
   "metadata": {},
   "outputs": [
    {
     "name": "stdout",
     "output_type": "stream",
     "text": [
      "Original dataset: Counter({'VERDADEIRO': 191, 'FALSO': 60})\n",
      "Resampled dataset: Counter({'FALSO': 191, 'VERDADEIRO': 191})\n"
     ]
    }
   ],
   "source": [
    "from sklearn.model_selection import train_test_split\n",
    "from imblearn.over_sampling import SMOTE\n",
    "from imblearn.under_sampling import RandomUnderSampler\n",
    "from imblearn.pipeline import Pipeline\n",
    "from collections import Counter\n",
    "\n",
    "### SMOTE dataset pq ele é desbalanceado\n",
    "over = SMOTE(sampling_strategy=1, random_state= 109)\n",
    "under = RandomUnderSampler(sampling_strategy=1, random_state= 109)\n",
    "steps = [('o', over), ('u', under)]\n",
    "pipeline = Pipeline(steps=steps)\n",
    "\n",
    "print('Original dataset:', Counter(y))\n",
    "\n",
    "X, y = pipeline.fit_resample(X, y)\n",
    "\n",
    "print('Resampled dataset:', Counter(y))\n",
    "\n",
    "X_train, X_test, y_train, y_test = train_test_split(X, y, test_size=0.3,random_state=109)"
   ]
  },
  {
   "cell_type": "markdown",
   "metadata": {},
   "source": [
    "## Treinamento"
   ]
  },
  {
   "cell_type": "code",
   "execution_count": 5,
   "metadata": {},
   "outputs": [],
   "source": [
    "from sklearn import svm\n",
    "\n",
    "model = svm.SVC(kernel='linear', C=1000, gamma=0.0001)\n",
    "\n",
    "model.fit(X_train, y_train)\n",
    "y_pred = model.predict(X_test)"
   ]
  },
  {
   "cell_type": "code",
   "execution_count": 6,
   "metadata": {},
   "outputs": [
    {
     "name": "stdout",
     "output_type": "stream",
     "text": [
      "[[47 11]\n",
      " [ 5 52]]\n",
      "              precision    recall  f1-score   support\n",
      "\n",
      "       FALSO       0.90      0.81      0.85        58\n",
      "  VERDADEIRO       0.83      0.91      0.87        57\n",
      "\n",
      "    accuracy                           0.86       115\n",
      "   macro avg       0.86      0.86      0.86       115\n",
      "weighted avg       0.86      0.86      0.86       115\n",
      "\n"
     ]
    }
   ],
   "source": [
    "from sklearn.metrics import classification_report, confusion_matrix\n",
    "\n",
    "print(confusion_matrix(y_test,y_pred))\n",
    "print(classification_report(y_test,y_pred))"
   ]
  },
  {
   "cell_type": "code",
   "execution_count": 7,
   "metadata": {},
   "outputs": [
    {
     "data": {
      "image/png": "[encoded data removed]",
      "text/plain": [
       "<Figure size 432x288 with 2 Axes>"
      ]
     },
     "metadata": {},
     "output_type": "display_data"
    }
   ],
   "source": [
    "import seaborn as sns; sns.set()\n",
    "\n",
    "mat = confusion_matrix(y_test,y_pred)\n",
    "sns.heatmap(mat, square=True, annot=True, fmt='d', cmap=\"Blues\", cbar=True,\n",
    "            xticklabels=['fake','real'],\n",
    "            yticklabels=['fake','real'])\n",
    "plt.xlabel('true label')\n",
    "plt.ylabel('predicted label');"
   ]
  },
  {
   "cell_type": "markdown",
   "metadata": {},
   "source": [
    "# Validação Cruzada"
   ]
  },
  {
   "cell_type": "code",
   "execution_count": 8,
   "metadata": {},
   "outputs": [
    {
     "name": "stdout",
     "output_type": "stream",
     "text": [
      "Accuracy: 0.8070 (+/- 0.0927) \n",
      "AUC: 0.8861 (+/- 0.0715) \n",
      "F1: 0.8113 (+/- 0.0816) \n"
     ]
    }
   ],
   "source": [
    "from sklearn.model_selection import  StratifiedKFold, KFold, cross_val_score  \n",
    "from sklearn.preprocessing import LabelEncoder\n",
    "from sklearn.metrics import accuracy_score\n",
    "from sklearn.metrics import make_scorer\n",
    "\n",
    "# dfcv = pd.read_csv(\"datasets/ds_full_validacao.csv\")\n",
    "\n",
    "# Xcv = dfcv.drop('rotulo', axis=1)\n",
    "# Ycv = dfcv['rotulo']\n",
    "\n",
    "Xcv = X\n",
    "Ycv = y\n",
    "\n",
    "# print('Original dataset:', Counter(Ycv))\n",
    "# Xcv, Ycv = pipeline.fit_resample(Xcv, Ycv)\n",
    "# print('Resampled dataset:', Counter(Ycv))\n",
    "\n",
    "\n",
    "k_folds = StratifiedKFold(n_splits=10, random_state=109, shuffle=True)\n",
    "\n",
    "scores = cross_val_score(model, Xcv, Ycv, cv=k_folds, scoring='accuracy',n_jobs=-1, verbose=False)\n",
    "print(\"Accuracy: %0.4f (+/- %0.4f) \"% (scores.mean(), scores.std()))\n",
    "\n",
    "auc = cross_val_score(model, Xcv, Ycv,  cv=k_folds, scoring = 'roc_auc')\n",
    "print(\"AUC: %0.4f (+/- %0.4f) \"% (auc.mean(), auc.std()))\n",
    "\n",
    "#total_preds = model.predict(Xcv)\n",
    "\n",
    "#Transforma para 0 e 1\n",
    "encoder = LabelEncoder()\n",
    "encoder.fit(Ycv)\n",
    "encoded_Y = encoder.transform(Ycv)\n",
    "\n",
    "f1 = cross_val_score(model, Xcv, encoded_Y, cv=k_folds, scoring='f1', n_jobs=-1, verbose=False)\n",
    "print(\"F1: %0.4f (+/- %0.4f) \"% (f1.mean(), f1.std()))"
   ]
  },
  {
   "cell_type": "markdown",
   "metadata": {},
   "source": [
    "## Matriz de Confusão K-Fold"
   ]
  },
  {
   "cell_type": "code",
   "execution_count": null,
   "metadata": {},
   "outputs": [],
   "source": [
    "from sklearn.model_selection import cross_val_predict\n",
    "\n",
    "y_pred_cv = cross_val_predict(model, Xcv, Ycv, cv=k_folds)\n",
    "mat_cv = confusion_matrix(Ycv, y_pred_cv)\n",
    "\n",
    "print(mat_cv)\n",
    "print(classification_report(Ycv, y_pred_cv))\n",
    "\n",
    "sns.heatmap(mat_cv, square=True, annot=True, fmt='d', cmap=\"Blues\", cbar=True,\n",
    "            xticklabels=['fake','real'],\n",
    "            yticklabels=['fake','real'])\n",
    "plt.xlabel('Valores Preditos')\n",
    "plt.ylabel('Valores Reais');"
   ]
  },
  {
   "cell_type": "markdown",
   "metadata": {},
   "source": [
    "## Curva ROC K-Fold"
   ]
  },
  {
   "cell_type": "code",
   "execution_count": null,
   "metadata": {},
   "outputs": [],
   "source": [
    "from sklearn.metrics import auc\n",
    "from sklearn.metrics import plot_roc_curve\n",
    "from sklearn.model_selection import StratifiedKFold\n",
    "from sklearn.preprocessing import MinMaxScaler\n",
    "from sklearn.preprocessing import LabelEncoder\n",
    "\n",
    "#Trabalha o Dataset Para poder ser printado\n",
    "# Xcv = X\n",
    "# Ycv = y\n",
    "scaler = MinMaxScaler().fit(Xcv)\n",
    "Xcv = scaler.transform(Xcv)\n",
    "\n",
    "encoder = LabelEncoder()\n",
    "encoder.fit(Ycv)\n",
    "Ycv = encoder.transform(Ycv)\n",
    "\n",
    "tprs = []\n",
    "aucs = []\n",
    "mean_fpr = np.linspace(0, 1, 100)\n",
    "\n",
    "fig, ax = plt.subplots(figsize=(10,8))\n",
    "for i,(train, test) in enumerate(k_folds.split(Xcv, Ycv)):\n",
    "    model.fit(Xcv[train], Ycv[train])\n",
    "    viz = plot_roc_curve(model, Xcv[test], Ycv[test],\n",
    "                         name='ROC fold {}'.format(i),\n",
    "                         alpha=0.3, lw=1, ax=ax)\n",
    "    interp_tpr = np.interp(mean_fpr, viz.fpr, viz.tpr)\n",
    "    interp_tpr[0] = 0.0\n",
    "    tprs.append(interp_tpr)\n",
    "    aucs.append(viz.roc_auc)\n",
    "\n",
    "ax.plot([0, 1], [0, 1], linestyle='--', lw=2, color='r',\n",
    "        label='Sorte', alpha=.8)\n",
    "\n",
    "mean_tpr = np.mean(tprs, axis=0)\n",
    "mean_tpr[-1] = 1.0\n",
    "mean_auc = auc(mean_fpr, mean_tpr)\n",
    "std_auc = np.std(aucs)\n",
    "ax.plot(mean_fpr, mean_tpr, color='b',\n",
    "       label=r'Média ROC (AUC = %0.2f $\\pm$ %0.2f)' % (mean_auc, std_auc),\n",
    "       lw=3, alpha=.8)\n",
    "\n",
    "std_tpr = np.std(tprs, axis=0)\n",
    "tprs_upper = np.minimum(mean_tpr + std_tpr, 1)\n",
    "tprs_lower = np.maximum(mean_tpr - std_tpr, 0)\n",
    "ax.fill_between(mean_fpr, tprs_lower, tprs_upper, color='gray', alpha=.2,\n",
    "                label=r'$\\pm$ 1 desvio padrão (std)')\n",
    "\n",
    "ax.set(xlim=[-0.05, 1.05], ylim=[-0.05, 1.05],\n",
    "       title=\"Curva ROC\")\n",
    "ax.legend(loc=0)\n",
    "plt.xlabel('Taxa de Falsos Positivos')\n",
    "plt.ylabel('Taxa de Verdadeiros Positivos')\n",
    "plt.show()"
   ]
  },
  {
   "cell_type": "code",
   "execution_count": null,
   "metadata": {},
   "outputs": [],
   "source": []
  }
 ],
 "metadata": {
  "kernelspec": {
   "display_name": "Python 3",
   "language": "python",
   "name": "python3"
  },
  "language_info": {
   "codemirror_mode": {
    "name": "ipython",
    "version": 3
   },
   "file_extension": ".py",
   "mimetype": "text/x-python",
   "name": "python",
   "nbconvert_exporter": "python",
   "pygments_lexer": "ipython3",
   "version": "3.7.0"
  }
 },
 "nbformat": 4,
 "nbformat_minor": 4
}
