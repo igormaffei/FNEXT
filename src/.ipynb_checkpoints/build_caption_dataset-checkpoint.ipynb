{
 "cells": [
  {
   "cell_type": "code",
   "execution_count": 7,
   "id": "de05f10b",
   "metadata": {},
   "outputs": [],
   "source": [
    "import pandas as pd\n",
    "import json"
   ]
  },
  {
   "cell_type": "code",
   "execution_count": 8,
   "id": "2c2f9b91",
   "metadata": {},
   "outputs": [
    {
     "data": {
      "text/html": [
       "<div>\n",
       "<style scoped>\n",
       "    .dataframe tbody tr th:only-of-type {\n",
       "        vertical-align: middle;\n",
       "    }\n",
       "\n",
       "    .dataframe tbody tr th {\n",
       "        vertical-align: top;\n",
       "    }\n",
       "\n",
       "    .dataframe thead th {\n",
       "        text-align: right;\n",
       "    }\n",
       "</style>\n",
       "<table border=\"1\" class=\"dataframe\">\n",
       "  <thead>\n",
       "    <tr style=\"text-align: right;\">\n",
       "      <th></th>\n",
       "      <th>id</th>\n",
       "      <th>image_url</th>\n",
       "      <th>rotulo</th>\n",
       "      <th>texto</th>\n",
       "      <th>texto_pt</th>\n",
       "      <th>nid</th>\n",
       "    </tr>\n",
       "  </thead>\n",
       "  <tbody>\n",
       "    <tr>\n",
       "      <th>0</th>\n",
       "      <td>1</td>\n",
       "      <td>https://external-preview.redd.it/McvdbScdiL3hw...</td>\n",
       "      <td>FALSO</td>\n",
       "      <td>report reveals jesus christ have benefited fro...</td>\n",
       "      <td>Relatório revela que Jesus Cristo se beneficio...</td>\n",
       "      <td>baydyy</td>\n",
       "    </tr>\n",
       "    <tr>\n",
       "      <th>1</th>\n",
       "      <td>2</td>\n",
       "      <td>https://external-preview.redd.it/flfnMmEkyu49c...</td>\n",
       "      <td>FALSO</td>\n",
       "      <td>i was just minding my own business at work tak...</td>\n",
       "      <td>Eu estava apenas cuidando do meu próprio negóc...</td>\n",
       "      <td>18dtiz</td>\n",
       "    </tr>\n",
       "    <tr>\n",
       "      <th>2</th>\n",
       "      <td>3</td>\n",
       "      <td>https://external-preview.redd.it/-2KlTfo1prw6M...</td>\n",
       "      <td>VERDADE</td>\n",
       "      <td>i have always enjoyed reading uplifting news b...</td>\n",
       "      <td>Eu sempre gostei de ler sobre arrebatamentos n...</td>\n",
       "      <td>48kmrk</td>\n",
       "    </tr>\n",
       "    <tr>\n",
       "      <th>3</th>\n",
       "      <td>4</td>\n",
       "      <td>https://external-preview.redd.it/gzhiWReZG8fJJ...</td>\n",
       "      <td>VERDADE</td>\n",
       "      <td>man dodges armed robbers bullets to protect hi...</td>\n",
       "      <td>man dodges armed robbers bullets to protect hi...</td>\n",
       "      <td>8k7lg7</td>\n",
       "    </tr>\n",
       "    <tr>\n",
       "      <th>4</th>\n",
       "      <td>5</td>\n",
       "      <td>https://preview.redd.it/rxckr4c5zc731.jpg?widt...</td>\n",
       "      <td>VERDADE</td>\n",
       "      <td>i was born with a leg defect that makes my kne...</td>\n",
       "      <td>Eu nasci com um defeito na perna que faz meu r...</td>\n",
       "      <td>c74fru</td>\n",
       "    </tr>\n",
       "  </tbody>\n",
       "</table>\n",
       "</div>"
      ],
      "text/plain": [
       "   id                                          image_url   rotulo  \\\n",
       "0   1  https://external-preview.redd.it/McvdbScdiL3hw...    FALSO   \n",
       "1   2  https://external-preview.redd.it/flfnMmEkyu49c...    FALSO   \n",
       "2   3  https://external-preview.redd.it/-2KlTfo1prw6M...  VERDADE   \n",
       "3   4  https://external-preview.redd.it/gzhiWReZG8fJJ...  VERDADE   \n",
       "4   5  https://preview.redd.it/rxckr4c5zc731.jpg?widt...  VERDADE   \n",
       "\n",
       "                                               texto  \\\n",
       "0  report reveals jesus christ have benefited fro...   \n",
       "1  i was just minding my own business at work tak...   \n",
       "2  i have always enjoyed reading uplifting news b...   \n",
       "3  man dodges armed robbers bullets to protect hi...   \n",
       "4  i was born with a leg defect that makes my kne...   \n",
       "\n",
       "                                            texto_pt     nid  \n",
       "0  Relatório revela que Jesus Cristo se beneficio...  baydyy  \n",
       "1  Eu estava apenas cuidando do meu próprio negóc...  18dtiz  \n",
       "2  Eu sempre gostei de ler sobre arrebatamentos n...  48kmrk  \n",
       "3  man dodges armed robbers bullets to protect hi...  8k7lg7  \n",
       "4  Eu nasci com um defeito na perna que faz meu r...  c74fru  "
      ]
     },
     "execution_count": 8,
     "metadata": {},
     "output_type": "execute_result"
    }
   ],
   "source": [
    "#data = pd.read_csv(\"datasets/dataset-img.csv\")\n",
    "data = pd.read_csv(\"datasets2/dataset-img.csv\")\n",
    "data.head()"
   ]
  },
  {
   "cell_type": "code",
   "execution_count": 9,
   "id": "4d636343",
   "metadata": {},
   "outputs": [
    {
     "data": {
      "text/plain": [
       "3901"
      ]
     },
     "execution_count": 9,
     "metadata": {},
     "output_type": "execute_result"
    }
   ],
   "source": [
    "len(data.index)"
   ]
  },
  {
   "cell_type": "code",
   "execution_count": 10,
   "id": "707aa8c0",
   "metadata": {},
   "outputs": [
    {
     "data": {
      "text/html": [
       "<div>\n",
       "<style scoped>\n",
       "    .dataframe tbody tr th:only-of-type {\n",
       "        vertical-align: middle;\n",
       "    }\n",
       "\n",
       "    .dataframe tbody tr th {\n",
       "        vertical-align: top;\n",
       "    }\n",
       "\n",
       "    .dataframe thead th {\n",
       "        text-align: right;\n",
       "    }\n",
       "</style>\n",
       "<table border=\"1\" class=\"dataframe\">\n",
       "  <thead>\n",
       "    <tr style=\"text-align: right;\">\n",
       "      <th></th>\n",
       "      <th>id</th>\n",
       "      <th>rotulo</th>\n",
       "    </tr>\n",
       "  </thead>\n",
       "  <tbody>\n",
       "    <tr>\n",
       "      <th>0</th>\n",
       "      <td>1</td>\n",
       "      <td>FALSO</td>\n",
       "    </tr>\n",
       "    <tr>\n",
       "      <th>1</th>\n",
       "      <td>2</td>\n",
       "      <td>FALSO</td>\n",
       "    </tr>\n",
       "    <tr>\n",
       "      <th>2</th>\n",
       "      <td>3</td>\n",
       "      <td>VERDADE</td>\n",
       "    </tr>\n",
       "    <tr>\n",
       "      <th>3</th>\n",
       "      <td>4</td>\n",
       "      <td>VERDADE</td>\n",
       "    </tr>\n",
       "    <tr>\n",
       "      <th>4</th>\n",
       "      <td>5</td>\n",
       "      <td>VERDADE</td>\n",
       "    </tr>\n",
       "  </tbody>\n",
       "</table>\n",
       "</div>"
      ],
      "text/plain": [
       "   id   rotulo\n",
       "0   1    FALSO\n",
       "1   2    FALSO\n",
       "2   3  VERDADE\n",
       "3   4  VERDADE\n",
       "4   5  VERDADE"
      ]
     },
     "execution_count": 10,
     "metadata": {},
     "output_type": "execute_result"
    }
   ],
   "source": [
    "df = data[['id','rotulo']].copy()\n",
    "df.head()"
   ]
  },
  {
   "cell_type": "code",
   "execution_count": 11,
   "id": "6cd8e9e0",
   "metadata": {},
   "outputs": [
    {
     "data": {
      "text/html": [
       "<div>\n",
       "<style scoped>\n",
       "    .dataframe tbody tr th:only-of-type {\n",
       "        vertical-align: middle;\n",
       "    }\n",
       "\n",
       "    .dataframe tbody tr th {\n",
       "        vertical-align: top;\n",
       "    }\n",
       "\n",
       "    .dataframe thead th {\n",
       "        text-align: right;\n",
       "    }\n",
       "</style>\n",
       "<table border=\"1\" class=\"dataframe\">\n",
       "  <thead>\n",
       "    <tr style=\"text-align: right;\">\n",
       "      <th></th>\n",
       "      <th>id</th>\n",
       "      <th>rotulo</th>\n",
       "      <th>texto</th>\n",
       "    </tr>\n",
       "  </thead>\n",
       "  <tbody>\n",
       "    <tr>\n",
       "      <th>0</th>\n",
       "      <td>1</td>\n",
       "      <td>FALSO</td>\n",
       "      <td>a woman in a white dress and a white dress a w...</td>\n",
       "    </tr>\n",
       "    <tr>\n",
       "      <th>1</th>\n",
       "      <td>2</td>\n",
       "      <td>FALSO</td>\n",
       "      <td>a close up of a pair of scissors a close up of...</td>\n",
       "    </tr>\n",
       "    <tr>\n",
       "      <th>2</th>\n",
       "      <td>3</td>\n",
       "      <td>VERDADE</td>\n",
       "      <td>a group of people sitting around a table eatin...</td>\n",
       "    </tr>\n",
       "    <tr>\n",
       "      <th>3</th>\n",
       "      <td>4</td>\n",
       "      <td>VERDADE</td>\n",
       "      <td>a man wearing a tie and a white shirt . a man ...</td>\n",
       "    </tr>\n",
       "    <tr>\n",
       "      <th>4</th>\n",
       "      <td>5</td>\n",
       "      <td>VERDADE</td>\n",
       "      <td>a person laying on a bed with a blanket . a wo...</td>\n",
       "    </tr>\n",
       "  </tbody>\n",
       "</table>\n",
       "</div>"
      ],
      "text/plain": [
       "   id   rotulo                                              texto\n",
       "0   1    FALSO  a woman in a white dress and a white dress a w...\n",
       "1   2    FALSO  a close up of a pair of scissors a close up of...\n",
       "2   3  VERDADE  a group of people sitting around a table eatin...\n",
       "3   4  VERDADE  a man wearing a tie and a white shirt . a man ...\n",
       "4   5  VERDADE  a person laying on a bed with a blanket . a wo..."
      ]
     },
     "execution_count": 11,
     "metadata": {},
     "output_type": "execute_result"
    }
   ],
   "source": [
    "import os.path\n",
    "\n",
    "def get_caption(id):  \n",
    "    #file_path = \"datasets/captions/{}.json\".format(id)\n",
    "    file_path = \"datasets2/captions/{}.json\".format(id)\n",
    "    #print(file_path)\n",
    "    \n",
    "    caption = ''\n",
    "    if os.path.isfile(file_path):\n",
    "        with open(file_path) as json_file:\n",
    "            data = json.loads(json_file.read())        \n",
    "            predictions = data.get('predictions')\n",
    "            if predictions:\n",
    "                for pred in predictions:\n",
    "                    caption += pred['caption'] + ' '\n",
    "\n",
    "    #print(caption)    \n",
    "    return caption.strip()  \n",
    "\n",
    "df['texto'] = ''\n",
    "    \n",
    "for (index, row) in df.iterrows():\n",
    "    df.at[index,'texto'] = get_caption(row['id'])\n",
    "\n",
    "df.head()\n"
   ]
  },
  {
   "cell_type": "code",
   "execution_count": 12,
   "id": "f070aadd",
   "metadata": {},
   "outputs": [],
   "source": [
    "#df.to_csv('datasets/dataset_caption.csv', index=False)\n",
    "df.to_csv('datasets2/dataset_caption.csv', index=False)"
   ]
  },
  {
   "cell_type": "code",
   "execution_count": null,
   "id": "b48b6864",
   "metadata": {},
   "outputs": [],
   "source": []
  }
 ],
 "metadata": {
  "kernelspec": {
   "display_name": "Dissertação",
   "language": "python",
   "name": "dissertacao"
  },
  "language_info": {
   "codemirror_mode": {
    "name": "ipython",
    "version": 3
   },
   "file_extension": ".py",
   "mimetype": "text/x-python",
   "name": "python",
   "nbconvert_exporter": "python",
   "pygments_lexer": "ipython3",
   "version": "3.7.0"
  }
 },
 "nbformat": 4,
 "nbformat_minor": 5
}
