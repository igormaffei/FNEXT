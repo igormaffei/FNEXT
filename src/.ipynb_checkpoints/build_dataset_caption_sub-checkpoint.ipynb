{
 "cells": [
  {
   "cell_type": "code",
   "execution_count": 9,
   "id": "f26b7287",
   "metadata": {},
   "outputs": [],
   "source": [
    "import pandas as pd"
   ]
  },
  {
   "cell_type": "code",
   "execution_count": 10,
   "id": "1eb34b15",
   "metadata": {},
   "outputs": [
    {
     "data": {
      "text/html": [
       "<div>\n",
       "<style scoped>\n",
       "    .dataframe tbody tr th:only-of-type {\n",
       "        vertical-align: middle;\n",
       "    }\n",
       "\n",
       "    .dataframe tbody tr th {\n",
       "        vertical-align: top;\n",
       "    }\n",
       "\n",
       "    .dataframe thead th {\n",
       "        text-align: right;\n",
       "    }\n",
       "</style>\n",
       "<table border=\"1\" class=\"dataframe\">\n",
       "  <thead>\n",
       "    <tr style=\"text-align: right;\">\n",
       "      <th></th>\n",
       "      <th>id</th>\n",
       "      <th>rotulo</th>\n",
       "      <th>texto</th>\n",
       "      <th>texto_pt</th>\n",
       "      <th>len</th>\n",
       "    </tr>\n",
       "  </thead>\n",
       "  <tbody>\n",
       "    <tr>\n",
       "      <th>0</th>\n",
       "      <td>53</td>\n",
       "      <td>FALSO</td>\n",
       "      <td>i have a possessed pepper plant every third or...</td>\n",
       "      <td>Eu tenho uma planta de pimenta possuída, a cad...</td>\n",
       "      <td>352</td>\n",
       "    </tr>\n",
       "    <tr>\n",
       "      <th>1</th>\n",
       "      <td>1136</td>\n",
       "      <td>VERDADE</td>\n",
       "      <td>how melting plastic waste could heat homes res...</td>\n",
       "      <td>Como lixo plástico derretido poderia aquecer a...</td>\n",
       "      <td>331</td>\n",
       "    </tr>\n",
       "    <tr>\n",
       "      <th>2</th>\n",
       "      <td>695</td>\n",
       "      <td>FALSO</td>\n",
       "      <td>bill the butcher daniel daylewis takes a young...</td>\n",
       "      <td>Bill, o açougueiro, Daniel Daylewis, leva um j...</td>\n",
       "      <td>326</td>\n",
       "    </tr>\n",
       "    <tr>\n",
       "      <th>3</th>\n",
       "      <td>3312</td>\n",
       "      <td>VERDADE</td>\n",
       "      <td>alan marsh an australian chook farmer successf...</td>\n",
       "      <td>Alan Marsh, um fazendeiro australiano chooks e...</td>\n",
       "      <td>322</td>\n",
       "    </tr>\n",
       "    <tr>\n",
       "      <th>4</th>\n",
       "      <td>1314</td>\n",
       "      <td>VERDADE</td>\n",
       "      <td>human eggs with potential to become fertilised...</td>\n",
       "      <td>Óvulos humanos com potencial para se tornarem ...</td>\n",
       "      <td>319</td>\n",
       "    </tr>\n",
       "  </tbody>\n",
       "</table>\n",
       "</div>"
      ],
      "text/plain": [
       "     id   rotulo                                              texto  \\\n",
       "0    53    FALSO  i have a possessed pepper plant every third or...   \n",
       "1  1136  VERDADE  how melting plastic waste could heat homes res...   \n",
       "2   695    FALSO  bill the butcher daniel daylewis takes a young...   \n",
       "3  3312  VERDADE  alan marsh an australian chook farmer successf...   \n",
       "4  1314  VERDADE  human eggs with potential to become fertilised...   \n",
       "\n",
       "                                            texto_pt  len  \n",
       "0  Eu tenho uma planta de pimenta possuída, a cad...  352  \n",
       "1  Como lixo plástico derretido poderia aquecer a...  331  \n",
       "2  Bill, o açougueiro, Daniel Daylewis, leva um j...  326  \n",
       "3  Alan Marsh, um fazendeiro australiano chooks e...  322  \n",
       "4  Óvulos humanos com potencial para se tornarem ...  319  "
      ]
     },
     "execution_count": 10,
     "metadata": {},
     "output_type": "execute_result"
    }
   ],
   "source": [
    "data = pd.read_csv(\"datasets2/dataset-img-sub.csv\")\n",
    "data.head()"
   ]
  },
  {
   "cell_type": "code",
   "execution_count": 11,
   "id": "fb832800",
   "metadata": {},
   "outputs": [
    {
     "data": {
      "text/plain": [
       "992"
      ]
     },
     "execution_count": 11,
     "metadata": {},
     "output_type": "execute_result"
    }
   ],
   "source": [
    "len(data.index)"
   ]
  },
  {
   "cell_type": "code",
   "execution_count": 12,
   "id": "79152ae1",
   "metadata": {},
   "outputs": [
    {
     "data": {
      "text/html": [
       "<div>\n",
       "<style scoped>\n",
       "    .dataframe tbody tr th:only-of-type {\n",
       "        vertical-align: middle;\n",
       "    }\n",
       "\n",
       "    .dataframe tbody tr th {\n",
       "        vertical-align: top;\n",
       "    }\n",
       "\n",
       "    .dataframe thead th {\n",
       "        text-align: right;\n",
       "    }\n",
       "</style>\n",
       "<table border=\"1\" class=\"dataframe\">\n",
       "  <thead>\n",
       "    <tr style=\"text-align: right;\">\n",
       "      <th></th>\n",
       "      <th>id</th>\n",
       "      <th>rotulo</th>\n",
       "      <th>texto</th>\n",
       "    </tr>\n",
       "  </thead>\n",
       "  <tbody>\n",
       "    <tr>\n",
       "      <th>0</th>\n",
       "      <td>1</td>\n",
       "      <td>FALSO</td>\n",
       "      <td>a woman in a white dress and a white dress a w...</td>\n",
       "    </tr>\n",
       "    <tr>\n",
       "      <th>1</th>\n",
       "      <td>2</td>\n",
       "      <td>FALSO</td>\n",
       "      <td>a close up of a pair of scissors a close up of...</td>\n",
       "    </tr>\n",
       "    <tr>\n",
       "      <th>2</th>\n",
       "      <td>3</td>\n",
       "      <td>VERDADE</td>\n",
       "      <td>a group of people sitting around a table eatin...</td>\n",
       "    </tr>\n",
       "    <tr>\n",
       "      <th>3</th>\n",
       "      <td>4</td>\n",
       "      <td>VERDADE</td>\n",
       "      <td>a man wearing a tie and a white shirt . a man ...</td>\n",
       "    </tr>\n",
       "    <tr>\n",
       "      <th>4</th>\n",
       "      <td>5</td>\n",
       "      <td>VERDADE</td>\n",
       "      <td>a person laying on a bed with a blanket . a wo...</td>\n",
       "    </tr>\n",
       "  </tbody>\n",
       "</table>\n",
       "</div>"
      ],
      "text/plain": [
       "   id   rotulo                                              texto\n",
       "0   1    FALSO  a woman in a white dress and a white dress a w...\n",
       "1   2    FALSO  a close up of a pair of scissors a close up of...\n",
       "2   3  VERDADE  a group of people sitting around a table eatin...\n",
       "3   4  VERDADE  a man wearing a tie and a white shirt . a man ...\n",
       "4   5  VERDADE  a person laying on a bed with a blanket . a wo..."
      ]
     },
     "execution_count": 12,
     "metadata": {},
     "output_type": "execute_result"
    }
   ],
   "source": [
    "dft = pd.read_csv(\"datasets2/dataset_caption.csv\")\n",
    "dft.head()"
   ]
  },
  {
   "cell_type": "code",
   "execution_count": 13,
   "id": "436126f9",
   "metadata": {},
   "outputs": [
    {
     "data": {
      "text/plain": [
       "3901"
      ]
     },
     "execution_count": 13,
     "metadata": {},
     "output_type": "execute_result"
    }
   ],
   "source": [
    "len(dft.index)"
   ]
  },
  {
   "cell_type": "code",
   "execution_count": 14,
   "id": "1581a650",
   "metadata": {},
   "outputs": [
    {
     "data": {
      "text/html": [
       "<div>\n",
       "<style scoped>\n",
       "    .dataframe tbody tr th:only-of-type {\n",
       "        vertical-align: middle;\n",
       "    }\n",
       "\n",
       "    .dataframe tbody tr th {\n",
       "        vertical-align: top;\n",
       "    }\n",
       "\n",
       "    .dataframe thead th {\n",
       "        text-align: right;\n",
       "    }\n",
       "</style>\n",
       "<table border=\"1\" class=\"dataframe\">\n",
       "  <thead>\n",
       "    <tr style=\"text-align: right;\">\n",
       "      <th></th>\n",
       "      <th>id</th>\n",
       "      <th>rotulo_x</th>\n",
       "      <th>texto_x</th>\n",
       "      <th>texto_pt</th>\n",
       "      <th>len</th>\n",
       "      <th>rotulo_y</th>\n",
       "      <th>texto_y</th>\n",
       "    </tr>\n",
       "  </thead>\n",
       "  <tbody>\n",
       "    <tr>\n",
       "      <th>0</th>\n",
       "      <td>53</td>\n",
       "      <td>FALSO</td>\n",
       "      <td>i have a possessed pepper plant every third or...</td>\n",
       "      <td>Eu tenho uma planta de pimenta possuída, a cad...</td>\n",
       "      <td>352</td>\n",
       "      <td>FALSO</td>\n",
       "      <td>a bunch of different types of fruit on a table...</td>\n",
       "    </tr>\n",
       "    <tr>\n",
       "      <th>1</th>\n",
       "      <td>1136</td>\n",
       "      <td>VERDADE</td>\n",
       "      <td>how melting plastic waste could heat homes res...</td>\n",
       "      <td>Como lixo plástico derretido poderia aquecer a...</td>\n",
       "      <td>331</td>\n",
       "      <td>VERDADE</td>\n",
       "      <td>a bunch of items that are on a table . a bunch...</td>\n",
       "    </tr>\n",
       "    <tr>\n",
       "      <th>2</th>\n",
       "      <td>695</td>\n",
       "      <td>FALSO</td>\n",
       "      <td>bill the butcher daniel daylewis takes a young...</td>\n",
       "      <td>Bill, o açougueiro, Daniel Daylewis, leva um j...</td>\n",
       "      <td>326</td>\n",
       "      <td>FALSO</td>\n",
       "      <td>a birthday cake with a train on it a birthday ...</td>\n",
       "    </tr>\n",
       "    <tr>\n",
       "      <th>3</th>\n",
       "      <td>3312</td>\n",
       "      <td>VERDADE</td>\n",
       "      <td>alan marsh an australian chook farmer successf...</td>\n",
       "      <td>Alan Marsh, um fazendeiro australiano chooks e...</td>\n",
       "      <td>322</td>\n",
       "      <td>VERDADE</td>\n",
       "      <td>a white dog laying on top of a bed . a white d...</td>\n",
       "    </tr>\n",
       "    <tr>\n",
       "      <th>4</th>\n",
       "      <td>1314</td>\n",
       "      <td>VERDADE</td>\n",
       "      <td>human eggs with potential to become fertilised...</td>\n",
       "      <td>Óvulos humanos com potencial para se tornarem ...</td>\n",
       "      <td>319</td>\n",
       "      <td>VERDADE</td>\n",
       "      <td>a close up of a cake with a train on it a clos...</td>\n",
       "    </tr>\n",
       "  </tbody>\n",
       "</table>\n",
       "</div>"
      ],
      "text/plain": [
       "     id rotulo_x                                            texto_x  \\\n",
       "0    53    FALSO  i have a possessed pepper plant every third or...   \n",
       "1  1136  VERDADE  how melting plastic waste could heat homes res...   \n",
       "2   695    FALSO  bill the butcher daniel daylewis takes a young...   \n",
       "3  3312  VERDADE  alan marsh an australian chook farmer successf...   \n",
       "4  1314  VERDADE  human eggs with potential to become fertilised...   \n",
       "\n",
       "                                            texto_pt  len rotulo_y  \\\n",
       "0  Eu tenho uma planta de pimenta possuída, a cad...  352    FALSO   \n",
       "1  Como lixo plástico derretido poderia aquecer a...  331  VERDADE   \n",
       "2  Bill, o açougueiro, Daniel Daylewis, leva um j...  326    FALSO   \n",
       "3  Alan Marsh, um fazendeiro australiano chooks e...  322  VERDADE   \n",
       "4  Óvulos humanos com potencial para se tornarem ...  319  VERDADE   \n",
       "\n",
       "                                             texto_y  \n",
       "0  a bunch of different types of fruit on a table...  \n",
       "1  a bunch of items that are on a table . a bunch...  \n",
       "2  a birthday cake with a train on it a birthday ...  \n",
       "3  a white dog laying on top of a bed . a white d...  \n",
       "4  a close up of a cake with a train on it a clos...  "
      ]
     },
     "execution_count": 14,
     "metadata": {},
     "output_type": "execute_result"
    }
   ],
   "source": [
    "df = pd.merge(data, dft,  left_on='id', right_on='id')\n",
    "df.head()"
   ]
  },
  {
   "cell_type": "code",
   "execution_count": 7,
   "id": "dcc0dcfc",
   "metadata": {},
   "outputs": [
    {
     "data": {
      "text/plain": [
       "992"
      ]
     },
     "execution_count": 7,
     "metadata": {},
     "output_type": "execute_result"
    }
   ],
   "source": [
    "len(dft.index)"
   ]
  },
  {
   "cell_type": "code",
   "execution_count": 15,
   "id": "ee97a102",
   "metadata": {},
   "outputs": [],
   "source": [
    "df['rotulo'] = df['rotulo_x']\n",
    "df['texto'] = df['texto_y']\n",
    "\n",
    "df = df.drop('rotulo_x',axis=1) \n",
    "df = df.drop('rotulo_y',axis=1) \n",
    "df = df.drop('texto_x',axis=1) \n",
    "df = df.drop('texto_y',axis=1) \n",
    "df = df.drop('texto_pt',axis=1) \n",
    "df = df.drop('len',axis=1) \n",
    "\n",
    "df.to_csv('datasets2/dataset_caption.csv', index=False) "
   ]
  },
  {
   "cell_type": "code",
   "execution_count": null,
   "id": "a68029c5",
   "metadata": {},
   "outputs": [],
   "source": []
  }
 ],
 "metadata": {
  "kernelspec": {
   "display_name": "Dissertação",
   "language": "python",
   "name": "dissertacao"
  },
  "language_info": {
   "codemirror_mode": {
    "name": "ipython",
    "version": 3
   },
   "file_extension": ".py",
   "mimetype": "text/x-python",
   "name": "python",
   "nbconvert_exporter": "python",
   "pygments_lexer": "ipython3",
   "version": "3.7.0"
  }
 },
 "nbformat": 4,
 "nbformat_minor": 5
}
