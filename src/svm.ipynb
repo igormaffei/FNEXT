{
 "cells": [
  {
   "cell_type": "code",
   "execution_count": 1,
   "metadata": {},
   "outputs": [],
   "source": [
    "import pandas as pd\n",
    "import numpy as np\n",
    "import matplotlib.pyplot as plt\n",
    "%matplotlib inline"
   ]
  },
  {
   "cell_type": "code",
   "execution_count": 9,
   "metadata": {},
   "outputs": [
    {
     "data": {
      "text/html": [
       "<div>\n",
       "<style scoped>\n",
       "    .dataframe tbody tr th:only-of-type {\n",
       "        vertical-align: middle;\n",
       "    }\n",
       "\n",
       "    .dataframe tbody tr th {\n",
       "        vertical-align: top;\n",
       "    }\n",
       "\n",
       "    .dataframe thead th {\n",
       "        text-align: right;\n",
       "    }\n",
       "</style>\n",
       "<table border=\"1\" class=\"dataframe\">\n",
       "  <thead>\n",
       "    <tr style=\"text-align: right;\">\n",
       "      <th></th>\n",
       "      <th>id</th>\n",
       "      <th>rotulo</th>\n",
       "      <th>MAIUSCULAS</th>\n",
       "      <th>EXCLAMA</th>\n",
       "      <th>ASPAS</th>\n",
       "      <th>POL_ABSOLUTO</th>\n",
       "      <th>funct</th>\n",
       "      <th>pronoun</th>\n",
       "      <th>ppron</th>\n",
       "      <th>i</th>\n",
       "      <th>...</th>\n",
       "      <th>negate</th>\n",
       "      <th>verb</th>\n",
       "      <th>adj</th>\n",
       "      <th>interrog</th>\n",
       "      <th>affect</th>\n",
       "      <th>posemo</th>\n",
       "      <th>negemo</th>\n",
       "      <th>anx</th>\n",
       "      <th>anger</th>\n",
       "      <th>sad</th>\n",
       "    </tr>\n",
       "  </thead>\n",
       "  <tbody>\n",
       "    <tr>\n",
       "      <th>0</th>\n",
       "      <td>53</td>\n",
       "      <td>FALSO</td>\n",
       "      <td>0.185105</td>\n",
       "      <td>0.0</td>\n",
       "      <td>0.0</td>\n",
       "      <td>0.500000</td>\n",
       "      <td>0.488384</td>\n",
       "      <td>0.419191</td>\n",
       "      <td>0.230473</td>\n",
       "      <td>0.237002</td>\n",
       "      <td>...</td>\n",
       "      <td>0.104996</td>\n",
       "      <td>0.324418</td>\n",
       "      <td>0.373536</td>\n",
       "      <td>0.104918</td>\n",
       "      <td>0.348045</td>\n",
       "      <td>0.078747</td>\n",
       "      <td>0.441619</td>\n",
       "      <td>0.245902</td>\n",
       "      <td>0.000000</td>\n",
       "      <td>0.0</td>\n",
       "    </tr>\n",
       "    <tr>\n",
       "      <th>1</th>\n",
       "      <td>1136</td>\n",
       "      <td>VERDADE</td>\n",
       "      <td>0.097101</td>\n",
       "      <td>0.0</td>\n",
       "      <td>0.0</td>\n",
       "      <td>0.333333</td>\n",
       "      <td>0.428923</td>\n",
       "      <td>0.321148</td>\n",
       "      <td>0.138170</td>\n",
       "      <td>0.000000</td>\n",
       "      <td>...</td>\n",
       "      <td>0.220311</td>\n",
       "      <td>0.534851</td>\n",
       "      <td>0.065315</td>\n",
       "      <td>0.660442</td>\n",
       "      <td>0.426006</td>\n",
       "      <td>0.082617</td>\n",
       "      <td>0.555985</td>\n",
       "      <td>0.000000</td>\n",
       "      <td>0.186732</td>\n",
       "      <td>0.0</td>\n",
       "    </tr>\n",
       "    <tr>\n",
       "      <th>2</th>\n",
       "      <td>695</td>\n",
       "      <td>FALSO</td>\n",
       "      <td>0.409534</td>\n",
       "      <td>0.0</td>\n",
       "      <td>0.0</td>\n",
       "      <td>0.500000</td>\n",
       "      <td>0.493180</td>\n",
       "      <td>0.454024</td>\n",
       "      <td>0.145687</td>\n",
       "      <td>0.000000</td>\n",
       "      <td>...</td>\n",
       "      <td>0.000000</td>\n",
       "      <td>0.102536</td>\n",
       "      <td>0.275475</td>\n",
       "      <td>0.000000</td>\n",
       "      <td>0.000000</td>\n",
       "      <td>0.000000</td>\n",
       "      <td>0.000000</td>\n",
       "      <td>0.000000</td>\n",
       "      <td>0.000000</td>\n",
       "      <td>0.0</td>\n",
       "    </tr>\n",
       "    <tr>\n",
       "      <th>3</th>\n",
       "      <td>3312</td>\n",
       "      <td>VERDADE</td>\n",
       "      <td>0.122886</td>\n",
       "      <td>0.0</td>\n",
       "      <td>0.0</td>\n",
       "      <td>0.583333</td>\n",
       "      <td>0.356806</td>\n",
       "      <td>0.196390</td>\n",
       "      <td>0.104917</td>\n",
       "      <td>0.000000</td>\n",
       "      <td>...</td>\n",
       "      <td>0.000000</td>\n",
       "      <td>0.246138</td>\n",
       "      <td>0.264511</td>\n",
       "      <td>0.111443</td>\n",
       "      <td>0.246460</td>\n",
       "      <td>0.083644</td>\n",
       "      <td>0.281450</td>\n",
       "      <td>0.000000</td>\n",
       "      <td>0.000000</td>\n",
       "      <td>0.0</td>\n",
       "    </tr>\n",
       "    <tr>\n",
       "      <th>4</th>\n",
       "      <td>1314</td>\n",
       "      <td>VERDADE</td>\n",
       "      <td>0.000000</td>\n",
       "      <td>0.0</td>\n",
       "      <td>0.0</td>\n",
       "      <td>0.500000</td>\n",
       "      <td>0.522131</td>\n",
       "      <td>0.277393</td>\n",
       "      <td>0.115869</td>\n",
       "      <td>0.000000</td>\n",
       "      <td>...</td>\n",
       "      <td>0.000000</td>\n",
       "      <td>0.271833</td>\n",
       "      <td>0.146062</td>\n",
       "      <td>0.492308</td>\n",
       "      <td>0.068047</td>\n",
       "      <td>0.092376</td>\n",
       "      <td>0.000000</td>\n",
       "      <td>0.000000</td>\n",
       "      <td>0.000000</td>\n",
       "      <td>0.0</td>\n",
       "    </tr>\n",
       "  </tbody>\n",
       "</table>\n",
       "<p>5 rows × 30 columns</p>\n",
       "</div>"
      ],
      "text/plain": [
       "     id   rotulo  MAIUSCULAS  EXCLAMA  ASPAS  POL_ABSOLUTO     funct  \\\n",
       "0    53    FALSO    0.185105      0.0    0.0      0.500000  0.488384   \n",
       "1  1136  VERDADE    0.097101      0.0    0.0      0.333333  0.428923   \n",
       "2   695    FALSO    0.409534      0.0    0.0      0.500000  0.493180   \n",
       "3  3312  VERDADE    0.122886      0.0    0.0      0.583333  0.356806   \n",
       "4  1314  VERDADE    0.000000      0.0    0.0      0.500000  0.522131   \n",
       "\n",
       "    pronoun     ppron         i  ...    negate      verb       adj  interrog  \\\n",
       "0  0.419191  0.230473  0.237002  ...  0.104996  0.324418  0.373536  0.104918   \n",
       "1  0.321148  0.138170  0.000000  ...  0.220311  0.534851  0.065315  0.660442   \n",
       "2  0.454024  0.145687  0.000000  ...  0.000000  0.102536  0.275475  0.000000   \n",
       "3  0.196390  0.104917  0.000000  ...  0.000000  0.246138  0.264511  0.111443   \n",
       "4  0.277393  0.115869  0.000000  ...  0.000000  0.271833  0.146062  0.492308   \n",
       "\n",
       "     affect    posemo    negemo       anx     anger  sad  \n",
       "0  0.348045  0.078747  0.441619  0.245902  0.000000  0.0  \n",
       "1  0.426006  0.082617  0.555985  0.000000  0.186732  0.0  \n",
       "2  0.000000  0.000000  0.000000  0.000000  0.000000  0.0  \n",
       "3  0.246460  0.083644  0.281450  0.000000  0.000000  0.0  \n",
       "4  0.068047  0.092376  0.000000  0.000000  0.000000  0.0  \n",
       "\n",
       "[5 rows x 30 columns]"
      ]
     },
     "execution_count": 9,
     "metadata": {},
     "output_type": "execute_result"
    }
   ],
   "source": [
    "#data = pd.read_csv(\"datasets/ds_texto.csv\")\n",
    "#data = pd.read_csv(\"datasets/ds_full.csv\")\n",
    "#data = pd.read_csv(\"datasets2/ds_texto.csv\")\n",
    "#@data = pd.read_csv(\"datasets2/ds_full.csv\")\n",
    "#data = pd.read_csv(\"datasets2/ds_full_em.csv\")\n",
    "#data = pd.read_csv(\"datasets/ds_full_em.csv\")\n",
    "#data = pd.read_csv(\"datasets/ds_texto_concat.csv\")\n",
    "data = pd.read_csv(\"datasets2/ds_texto_concat.csv\")\n",
    "\n",
    "data.head()"
   ]
  },
  {
   "cell_type": "code",
   "execution_count": 10,
   "metadata": {},
   "outputs": [],
   "source": [
    "X = data.drop('id', axis=1)\n",
    "X = X.drop('rotulo', axis=1)\n",
    "y = data['rotulo']"
   ]
  },
  {
   "cell_type": "markdown",
   "metadata": {},
   "source": [
    "## Prepara o Conjunto para Teste"
   ]
  },
  {
   "cell_type": "code",
   "execution_count": 11,
   "metadata": {},
   "outputs": [
    {
     "name": "stdout",
     "output_type": "stream",
     "text": [
      "Original dataset: Counter({'VERDADE': 613, 'FALSO': 379})\n",
      "Resampled dataset: Counter({'FALSO': 613, 'VERDADE': 613})\n"
     ]
    }
   ],
   "source": [
    "from sklearn.model_selection import train_test_split\n",
    "from imblearn.over_sampling import SMOTE\n",
    "from imblearn.under_sampling import RandomUnderSampler\n",
    "from imblearn.pipeline import Pipeline\n",
    "from collections import Counter\n",
    "\n",
    "### SMOTE dataset pq ele é desbalanceado\n",
    "over = SMOTE(sampling_strategy=1, random_state= 109)\n",
    "under = RandomUnderSampler(sampling_strategy=1, random_state= 109)\n",
    "steps = [('o', over), ('u', under)]\n",
    "pipeline = Pipeline(steps=steps)\n",
    "\n",
    "print('Original dataset:', Counter(y))\n",
    "\n",
    "X, y = pipeline.fit_resample(X, y)\n",
    "\n",
    "print('Resampled dataset:', Counter(y))\n",
    "\n",
    "X_train, X_test, y_train, y_test = train_test_split(X, y, test_size=0.3,random_state=109)"
   ]
  },
  {
   "cell_type": "markdown",
   "metadata": {},
   "source": [
    "## Treinamento"
   ]
  },
  {
   "cell_type": "code",
   "execution_count": 12,
   "metadata": {},
   "outputs": [],
   "source": [
    "from sklearn import svm\n",
    "\n",
    "model = svm.SVC(kernel='linear', C=1000, gamma=0.0001)\n",
    "\n",
    "model.fit(X_train, y_train)\n",
    "y_pred = model.predict(X_test)"
   ]
  },
  {
   "cell_type": "code",
   "execution_count": 13,
   "metadata": {},
   "outputs": [
    {
     "name": "stdout",
     "output_type": "stream",
     "text": [
      "[[106  80]\n",
      " [ 59 123]]\n",
      "              precision    recall  f1-score   support\n",
      "\n",
      "       FALSO       0.64      0.57      0.60       186\n",
      "     VERDADE       0.61      0.68      0.64       182\n",
      "\n",
      "    accuracy                           0.62       368\n",
      "   macro avg       0.62      0.62      0.62       368\n",
      "weighted avg       0.62      0.62      0.62       368\n",
      "\n"
     ]
    }
   ],
   "source": [
    "from sklearn.metrics import classification_report, confusion_matrix\n",
    "\n",
    "print(confusion_matrix(y_test,y_pred))\n",
    "print(classification_report(y_test,y_pred))"
   ]
  },
  {
   "cell_type": "code",
   "execution_count": 14,
   "metadata": {},
   "outputs": [
    {
     "data": {
      "image/png": "[encoded data removed]",
      "text/plain": [
       "<Figure size 432x288 with 2 Axes>"
      ]
     },
     "metadata": {},
     "output_type": "display_data"
    }
   ],
   "source": [
    "import seaborn as sns; sns.set()\n",
    "\n",
    "mat = confusion_matrix(y_test,y_pred)\n",
    "sns.heatmap(mat, square=True, annot=True, fmt='d', cmap=\"Blues\", cbar=True,\n",
    "            xticklabels=['fake','real'],\n",
    "            yticklabels=['fake','real'])\n",
    "plt.xlabel('true label')\n",
    "plt.ylabel('predicted label');"
   ]
  },
  {
   "cell_type": "markdown",
   "metadata": {},
   "source": [
    "# Validação Cruzada"
   ]
  },
  {
   "cell_type": "code",
   "execution_count": 15,
   "metadata": {},
   "outputs": [
    {
     "name": "stdout",
     "output_type": "stream",
     "text": [
      "Accuracy: 0.6386 (+/- 0.0392) \n",
      "AUC: 0.6812 (+/- 0.0358) \n",
      "F1: 0.6738 (+/- 0.0354) \n"
     ]
    }
   ],
   "source": [
    "from sklearn.model_selection import  StratifiedKFold, KFold, cross_val_score  \n",
    "from sklearn.preprocessing import LabelEncoder\n",
    "from sklearn.metrics import accuracy_score\n",
    "from sklearn.metrics import make_scorer\n",
    "\n",
    "# dfcv = pd.read_csv(\"datasets/ds_full_validacao.csv\")\n",
    "\n",
    "# Xcv = dfcv.drop('rotulo', axis=1)\n",
    "# Ycv = dfcv['rotulo']\n",
    "\n",
    "Xcv = X\n",
    "Ycv = y\n",
    "\n",
    "# print('Original dataset:', Counter(Ycv))\n",
    "# Xcv, Ycv = pipeline.fit_resample(Xcv, Ycv)\n",
    "# print('Resampled dataset:', Counter(Ycv))\n",
    "\n",
    "\n",
    "k_folds = StratifiedKFold(n_splits=10, random_state=109, shuffle=True)\n",
    "\n",
    "scores = cross_val_score(model, Xcv, Ycv, cv=k_folds, scoring='accuracy',n_jobs=-1, verbose=False)\n",
    "print(\"Accuracy: %0.4f (+/- %0.4f) \"% (scores.mean(), scores.std()))\n",
    "\n",
    "auc = cross_val_score(model, Xcv, Ycv,  cv=k_folds, scoring = 'roc_auc')\n",
    "print(\"AUC: %0.4f (+/- %0.4f) \"% (auc.mean(), auc.std()))\n",
    "\n",
    "#total_preds = model.predict(Xcv)\n",
    "\n",
    "#Transforma para 0 e 1\n",
    "encoder = LabelEncoder()\n",
    "encoder.fit(Ycv)\n",
    "encoded_Y = encoder.transform(Ycv)\n",
    "\n",
    "f1 = cross_val_score(model, Xcv, encoded_Y, cv=k_folds, scoring='f1', n_jobs=-1, verbose=False)\n",
    "print(\"F1: %0.4f (+/- %0.4f) \"% (f1.mean(), f1.std()))"
   ]
  },
  {
   "cell_type": "markdown",
   "metadata": {},
   "source": [
    "## Matriz de Confusão K-Fold"
   ]
  },
  {
   "cell_type": "code",
   "execution_count": null,
   "metadata": {},
   "outputs": [],
   "source": [
    "from sklearn.model_selection import cross_val_predict\n",
    "\n",
    "y_pred_cv = cross_val_predict(model, Xcv, Ycv, cv=k_folds)\n",
    "mat_cv = confusion_matrix(Ycv, y_pred_cv)\n",
    "\n",
    "print(mat_cv)\n",
    "print(classification_report(Ycv, y_pred_cv))\n",
    "\n",
    "sns.heatmap(mat_cv, square=True, annot=True, fmt='d', cmap=\"Blues\", cbar=True,\n",
    "            xticklabels=['fake','real'],\n",
    "            yticklabels=['fake','real'])\n",
    "plt.xlabel('Valores Preditos')\n",
    "plt.ylabel('Valores Reais');"
   ]
  },
  {
   "cell_type": "markdown",
   "metadata": {},
   "source": [
    "## Curva ROC K-Fold"
   ]
  },
  {
   "cell_type": "code",
   "execution_count": null,
   "metadata": {},
   "outputs": [],
   "source": [
    "from sklearn.metrics import auc\n",
    "from sklearn.metrics import plot_roc_curve\n",
    "from sklearn.model_selection import StratifiedKFold\n",
    "from sklearn.preprocessing import MinMaxScaler\n",
    "from sklearn.preprocessing import LabelEncoder\n",
    "\n",
    "#Trabalha o Dataset Para poder ser printado\n",
    "# Xcv = X\n",
    "# Ycv = y\n",
    "scaler = MinMaxScaler().fit(Xcv)\n",
    "Xcv = scaler.transform(Xcv)\n",
    "\n",
    "encoder = LabelEncoder()\n",
    "encoder.fit(Ycv)\n",
    "Ycv = encoder.transform(Ycv)\n",
    "\n",
    "tprs = []\n",
    "aucs = []\n",
    "mean_fpr = np.linspace(0, 1, 100)\n",
    "\n",
    "fig, ax = plt.subplots(figsize=(10,8))\n",
    "for i,(train, test) in enumerate(k_folds.split(Xcv, Ycv)):\n",
    "    model.fit(Xcv[train], Ycv[train])\n",
    "    viz = plot_roc_curve(model, Xcv[test], Ycv[test],\n",
    "                         name='ROC fold {}'.format(i),\n",
    "                         alpha=0.3, lw=1, ax=ax)\n",
    "    interp_tpr = np.interp(mean_fpr, viz.fpr, viz.tpr)\n",
    "    interp_tpr[0] = 0.0\n",
    "    tprs.append(interp_tpr)\n",
    "    aucs.append(viz.roc_auc)\n",
    "\n",
    "ax.plot([0, 1], [0, 1], linestyle='--', lw=2, color='r',\n",
    "        label='Sorte', alpha=.8)\n",
    "\n",
    "mean_tpr = np.mean(tprs, axis=0)\n",
    "mean_tpr[-1] = 1.0\n",
    "mean_auc = auc(mean_fpr, mean_tpr)\n",
    "std_auc = np.std(aucs)\n",
    "ax.plot(mean_fpr, mean_tpr, color='b',\n",
    "       label=r'Média ROC (AUC = %0.2f $\\pm$ %0.2f)' % (mean_auc, std_auc),\n",
    "       lw=3, alpha=.8)\n",
    "\n",
    "std_tpr = np.std(tprs, axis=0)\n",
    "tprs_upper = np.minimum(mean_tpr + std_tpr, 1)\n",
    "tprs_lower = np.maximum(mean_tpr - std_tpr, 0)\n",
    "ax.fill_between(mean_fpr, tprs_lower, tprs_upper, color='gray', alpha=.2,\n",
    "                label=r'$\\pm$ 1 desvio padrão (std)')\n",
    "\n",
    "ax.set(xlim=[-0.05, 1.05], ylim=[-0.05, 1.05],\n",
    "       title=\"Curva ROC\")\n",
    "ax.legend(loc=0)\n",
    "plt.xlabel('Taxa de Falsos Positivos')\n",
    "plt.ylabel('Taxa de Verdadeiros Positivos')\n",
    "plt.show()"
   ]
  },
  {
   "cell_type": "code",
   "execution_count": null,
   "metadata": {},
   "outputs": [],
   "source": []
  }
 ],
 "metadata": {
  "kernelspec": {
   "display_name": "Python 3",
   "language": "python",
   "name": "python3"
  },
  "language_info": {
   "codemirror_mode": {
    "name": "ipython",
    "version": 3
   },
   "file_extension": ".py",
   "mimetype": "text/x-python",
   "name": "python",
   "nbconvert_exporter": "python",
   "pygments_lexer": "ipython3",
   "version": "3.7.0"
  }
 },
 "nbformat": 4,
 "nbformat_minor": 4
}
